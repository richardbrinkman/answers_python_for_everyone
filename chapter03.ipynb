{
 "cells": [
  {
   "cell_type": "markdown",
   "id": "3da8462c-c581-4854-bcd8-e5b8ec57a4fa",
   "metadata": {},
   "source": [
    "# Antwoorden van hoofdstuk 3: Conditional execution"
   ]
  },
  {
   "cell_type": "markdown",
   "id": "d84c45e1-a67d-4670-b72e-c6515a5167c9",
   "metadata": {},
   "source": [
    "## Exercise 1\n",
    "Rewrite your pay computation to give the employee 1.5 times the hourly rate for hours worked above 40 hours.\n",
    "```\n",
    "Enter Hours: 45\n",
    "Enter Rate: 10\n",
    "Pay: 475.00\n",
    "```"
   ]
  },
  {
   "cell_type": "markdown",
   "id": "989564f3-3bf9-48ad-9c01-9cc58323b694",
   "metadata": {},
   "source": [
    "### Antwoord"
   ]
  },
  {
   "cell_type": "code",
   "execution_count": 1,
   "id": "748134c5-d057-494e-8496-5931079d1f21",
   "metadata": {},
   "outputs": [
    {
     "name": "stdin",
     "output_type": "stream",
     "text": [
      "Enter Hours:  45\n",
      "Enter Rate:  10\n"
     ]
    },
    {
     "name": "stdout",
     "output_type": "stream",
     "text": [
      "Pay: 475.00\n"
     ]
    }
   ],
   "source": [
    "hours = float(input('Enter Hours: '))\n",
    "rate = float(input('Enter Rate: '))\n",
    "if hours <= 40:\n",
    "    pay = hours * rate\n",
    "else:\n",
    "    pay = 40 * rate + (hours - 40) * rate * 1.5\n",
    "print(f'Pay: {pay:.2f}')"
   ]
  },
  {
   "cell_type": "markdown",
   "id": "bc38af8c-7e10-478b-8367-64e595809f90",
   "metadata": {},
   "source": [
    "## Exercise 2\n",
    "Rewrite your pay program using try and except so that your program handles non-numeric input gracefully by printing a message and exiting the program. The following shows two executions of the program:\n",
    "```\n",
    "Enter Hours: 20\n",
    "Enter Rate: nine\n",
    "Error: please enter numeric input\n",
    "```\n",
    "\n",
    "```\n",
    "Enter Hours: forty\n",
    "Error: please enter numeric input\n",
    "```"
   ]
  },
  {
   "cell_type": "markdown",
   "id": "05709770-8d99-407d-9d66-b54900163f71",
   "metadata": {},
   "source": [
    "### Antwoord"
   ]
  },
  {
   "cell_type": "markdown",
   "id": "2d5b83c6-788e-43c7-a450-05880179a276",
   "metadata": {},
   "source": [
    "Om te achterhalen welke `Exception` afgevangen moet worden is het handig om te kijken welke error er zonder `try` en `except` optreedt."
   ]
  },
  {
   "cell_type": "code",
   "execution_count": 2,
   "id": "c815a7b5-f525-45d7-87e7-e92037662393",
   "metadata": {},
   "outputs": [
    {
     "name": "stdin",
     "output_type": "stream",
     "text": [
      "Enter Hours:  forty\n"
     ]
    },
    {
     "ename": "ValueError",
     "evalue": "could not convert string to float: 'forty'",
     "output_type": "error",
     "traceback": [
      "\u001b[0;31m---------------------------------------------------------------------------\u001b[0m",
      "\u001b[0;31mValueError\u001b[0m                                Traceback (most recent call last)",
      "\u001b[0;32m/tmp/ipykernel_12950/3253704300.py\u001b[0m in \u001b[0;36m<module>\u001b[0;34m\u001b[0m\n\u001b[0;32m----> 1\u001b[0;31m \u001b[0mhours\u001b[0m \u001b[0;34m=\u001b[0m \u001b[0mfloat\u001b[0m\u001b[0;34m(\u001b[0m\u001b[0minput\u001b[0m\u001b[0;34m(\u001b[0m\u001b[0;34m'Enter Hours: '\u001b[0m\u001b[0;34m)\u001b[0m\u001b[0;34m)\u001b[0m\u001b[0;34m\u001b[0m\u001b[0;34m\u001b[0m\u001b[0m\n\u001b[0m\u001b[1;32m      2\u001b[0m \u001b[0mrate\u001b[0m \u001b[0;34m=\u001b[0m \u001b[0mfloat\u001b[0m\u001b[0;34m(\u001b[0m\u001b[0minput\u001b[0m\u001b[0;34m(\u001b[0m\u001b[0;34m'Enter Rate: '\u001b[0m\u001b[0;34m)\u001b[0m\u001b[0;34m)\u001b[0m\u001b[0;34m\u001b[0m\u001b[0;34m\u001b[0m\u001b[0m\n\u001b[1;32m      3\u001b[0m \u001b[0;32mif\u001b[0m \u001b[0mhours\u001b[0m \u001b[0;34m<=\u001b[0m \u001b[0;36m40\u001b[0m\u001b[0;34m:\u001b[0m\u001b[0;34m\u001b[0m\u001b[0;34m\u001b[0m\u001b[0m\n\u001b[1;32m      4\u001b[0m     \u001b[0mpay\u001b[0m \u001b[0;34m=\u001b[0m \u001b[0mhours\u001b[0m \u001b[0;34m*\u001b[0m \u001b[0mrate\u001b[0m\u001b[0;34m\u001b[0m\u001b[0;34m\u001b[0m\u001b[0m\n\u001b[1;32m      5\u001b[0m \u001b[0;32melse\u001b[0m\u001b[0;34m:\u001b[0m\u001b[0;34m\u001b[0m\u001b[0;34m\u001b[0m\u001b[0m\n",
      "\u001b[0;31mValueError\u001b[0m: could not convert string to float: 'forty'"
     ]
    }
   ],
   "source": [
    "hours = float(input('Enter Hours: '))\n",
    "rate = float(input('Enter Rate: '))\n",
    "if hours <= 40:\n",
    "    pay = hours * rate\n",
    "else:\n",
    "    pay = 40 * rate + (hours - 40) * rate * 1.5\n",
    "print(f'Pay: {pay:.2f}')"
   ]
  },
  {
   "cell_type": "code",
   "execution_count": 3,
   "id": "2bbbf692-7c7b-4a91-bbe7-5641f1aaa820",
   "metadata": {},
   "outputs": [
    {
     "name": "stdin",
     "output_type": "stream",
     "text": [
      "Enter Hours:  forty\n"
     ]
    },
    {
     "name": "stdout",
     "output_type": "stream",
     "text": [
      "Error: please enter numeric input\n"
     ]
    }
   ],
   "source": [
    "try:\n",
    "    hours = float(input('Enter Hours: '))\n",
    "    rate = float(input('Enter Rate: '))\n",
    "    if hours <= 40:\n",
    "        pay = hours * rate\n",
    "    else:\n",
    "        pay = 40 * rate + (hours - 40) * rate * 1.5\n",
    "    print(f'Pay: {pay:.2f}')\n",
    "except ValueError:\n",
    "    print('Error: please enter numeric input')"
   ]
  },
  {
   "cell_type": "markdown",
   "id": "18e6da02-7a62-436e-9412-95faba247968",
   "metadata": {},
   "source": [
    "## Exercise 3\n",
    "Write a program to prompt for a score between 0.0 and 1.0. If the score is out of range, print an error message. If the score is between 0.0 and 1.0, print a grade using the following table:\n",
    "\n",
    "score  | grade\n",
    "------ | -----\n",
    "\\>= 0.9 | A\n",
    "\\>= 0.8 | B\n",
    "\\>= 0.7 | C\n",
    "\\>= 0.6 | D\n",
    "\\<  0.6 | F\n",
    "\n",
    "```\n",
    "Enter score: perfect\n",
    "Bad score\n",
    "```\n",
    "\n",
    "```\n",
    "Enter score: 10.0\n",
    "Bad score\n",
    "```\n",
    "\n",
    "```\n",
    "0.75\n",
    "C\n",
    "```\n",
    "\n",
    "```\n",
    "Enter score: \n",
    "0.5\n",
    "F\n",
    "```\n",
    "\n",
    "Run the program repeatedly as shown above to test the various different values for input."
   ]
  },
  {
   "cell_type": "markdown",
   "id": "26003c97-d914-49d1-9188-26395a5383e9",
   "metadata": {},
   "source": [
    "### Antwoord"
   ]
  },
  {
   "cell_type": "code",
   "execution_count": 6,
   "id": "1fd86ccd-536f-4e5c-9cd0-67781b8bad7e",
   "metadata": {},
   "outputs": [
    {
     "name": "stdin",
     "output_type": "stream",
     "text": [
      "Enter a score:  0.5\n"
     ]
    },
    {
     "name": "stdout",
     "output_type": "stream",
     "text": [
      "F\n"
     ]
    }
   ],
   "source": [
    "try:\n",
    "    score = float(input('Enter a score: '))\n",
    "    if score < 0.0 or score > 1.0:\n",
    "        print('Bad score')\n",
    "    elif score >= 0.9:\n",
    "        print('A')\n",
    "    elif score >= 0.8:\n",
    "        print('B')\n",
    "    elif score >= 0.7:\n",
    "        print('C')\n",
    "    elif score >= 0.6:\n",
    "        print('D')\n",
    "    else:\n",
    "        print('F')\n",
    "except ValueError:\n",
    "    print('Bad score')"
   ]
  }
 ],
 "metadata": {
  "kernelspec": {
   "display_name": "Python 3 (ipykernel)",
   "language": "python",
   "name": "python3"
  },
  "language_info": {
   "codemirror_mode": {
    "name": "ipython",
    "version": 3
   },
   "file_extension": ".py",
   "mimetype": "text/x-python",
   "name": "python",
   "nbconvert_exporter": "python",
   "pygments_lexer": "ipython3",
   "version": "3.10.6"
  }
 },
 "nbformat": 4,
 "nbformat_minor": 5
}
