{
 "cells": [
  {
   "cell_type": "markdown",
   "id": "d23dff42-c098-4498-afb2-04cdffa13826",
   "metadata": {},
   "source": [
    "# Antwoorden van hoofdstuk 11: Regular expressions"
   ]
  },
  {
   "cell_type": "markdown",
   "id": "7d90c13f-80c7-42d9-931d-f4e3cdc82e67",
   "metadata": {},
   "source": [
    "## Exercise 1\n",
    "Write a simple program to simulate the operation of the grep\n",
    "command on Unix. Ask the user to enter a regular expression and count the\n",
    "number of lines that matched the regular expression:\n",
    "```\n",
    "Enter a regular expression: ^Author\n",
    "mbox.txt had 1798 lines that matched ^Author\n",
    "```\n",
    "```\n",
    "Enter a regular expression: ^X-\n",
    "mbox.txt had 14368 lines that matched ^X-\n",
    "```\n",
    "```\n",
    "Enter a regular expression: java$\n",
    "mbox.txt had 4175 lines that matched java$\n",
    "```"
   ]
  },
  {
   "cell_type": "markdown",
   "id": "82c84c39-2408-4c82-9872-648b3cf041d2",
   "metadata": {},
   "source": [
    "### Antwoord"
   ]
  },
  {
   "cell_type": "code",
   "execution_count": 1,
   "id": "efa96203-24a6-4ae7-982b-7a88365624bf",
   "metadata": {},
   "outputs": [
    {
     "name": "stdin",
     "output_type": "stream",
     "text": [
      "Enter a regular expression:  ^Author\n"
     ]
    },
    {
     "name": "stdout",
     "output_type": "stream",
     "text": [
      "mbox.txt had 1798 lines that matched ^Author\n"
     ]
    }
   ],
   "source": [
    "import re\n",
    "\n",
    "\n",
    "regexp = input(\"Enter a regular expression: \")\n",
    "\n",
    "count = 0\n",
    "with open(\"mbox.txt\") as file:\n",
    "    for line in file:\n",
    "        if re.match(regexp, line):\n",
    "            count += 1\n",
    "\n",
    "print(\"mbox.txt had\", count, \"lines that matched\", regexp)"
   ]
  },
  {
   "cell_type": "markdown",
   "id": "56e344a0-e859-4e0b-a141-6eb7a30ad714",
   "metadata": {},
   "source": [
    "## Exercise 2\n",
    "Write a program to look for lines of the form:\n",
    "```\n",
    "New Revision: 39772\n",
    "```\n",
    "Extract the number from each of the lines using a regular expression and the\n",
    "`findall()` method. Compute the average of the numbers and print out the\n",
    "average.\n",
    "```\n",
    "Enter file:mbox.txt \n",
    "38444.0323119\n",
    "```\n",
    "```\n",
    "Enter file:mbox-short.txt\n",
    "39756.9259259\n",
    "```"
   ]
  },
  {
   "cell_type": "markdown",
   "id": "32be1a35-73b1-4af5-b57c-cb3d645169d7",
   "metadata": {},
   "source": [
    "### Antwoord"
   ]
  },
  {
   "cell_type": "code",
   "execution_count": 2,
   "id": "d31a15f8-d1ba-4b2a-aecb-398b46f15967",
   "metadata": {},
   "outputs": [
    {
     "name": "stdin",
     "output_type": "stream",
     "text": [
      "Enter file:  mbox.txt\n"
     ]
    },
    {
     "name": "stdout",
     "output_type": "stream",
     "text": [
      "38549.79497206704\n"
     ]
    }
   ],
   "source": [
    "import re\n",
    "\n",
    "\n",
    "filename = input(\"Enter file: \")\n",
    "\n",
    "count = 0\n",
    "total = 0\n",
    "with open(filename) as file:\n",
    "    for line in file:\n",
    "        for revision in re.findall(r\"New Revision: \\d+\", line):\n",
    "            _,value = revision.split(\": \")\n",
    "            count += 1\n",
    "            total += int(value)\n",
    "\n",
    "average = total / count\n",
    "print(average)"
   ]
  }
 ],
 "metadata": {
  "kernelspec": {
   "display_name": "Python 3 (ipykernel)",
   "language": "python",
   "name": "python3"
  },
  "language_info": {
   "codemirror_mode": {
    "name": "ipython",
    "version": 3
   },
   "file_extension": ".py",
   "mimetype": "text/x-python",
   "name": "python",
   "nbconvert_exporter": "python",
   "pygments_lexer": "ipython3",
   "version": "3.10.6"
  }
 },
 "nbformat": 4,
 "nbformat_minor": 5
}
