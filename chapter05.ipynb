{
 "cells": [
  {
   "cell_type": "markdown",
   "id": "871cfc2d-575a-4284-a8f2-578ea0981ead",
   "metadata": {},
   "source": [
    "# Antwoorden van hoofdstuk 5: Iteration"
   ]
  },
  {
   "cell_type": "markdown",
   "id": "61776bc1-94fa-4329-8021-f69caa4bfe78",
   "metadata": {},
   "source": [
    "## Exercise 1\n",
    "Write a program which repeatedly reads numbers until the user\n",
    "enters `done`. Once `done` is entered, print out the total, count, and\n",
    "average of the numbers. If the user enters anything other than a number,\n",
    "detect their mistake using try and except and print an error message and skip\n",
    "to the next number.\n",
    "\n",
    "```\n",
    "Enter a number: 4\n",
    "Enter a number: 5\n",
    "Enter a number: bad data\n",
    "Invalid input\n",
    "Enter a number: 7\n",
    "Enter a number: done\n",
    "16 3 5.333333333333333\n",
    "```"
   ]
  },
  {
   "cell_type": "markdown",
   "id": "8e5213f7-fb78-4627-846d-12b2348e74fc",
   "metadata": {},
   "source": [
    "### Antwoord"
   ]
  },
  {
   "cell_type": "code",
   "execution_count": 1,
   "id": "31acbc35-c502-4a4e-be88-62431ae6af2b",
   "metadata": {},
   "outputs": [
    {
     "name": "stdin",
     "output_type": "stream",
     "text": [
      "Enter a number:  4\n",
      "Enter a number:  5\n",
      "Enter a number:  bad data\n"
     ]
    },
    {
     "name": "stdout",
     "output_type": "stream",
     "text": [
      "Invalid input\n"
     ]
    },
    {
     "name": "stdin",
     "output_type": "stream",
     "text": [
      "Enter a number:  7\n",
      "Enter a number:  done\n"
     ]
    },
    {
     "name": "stdout",
     "output_type": "stream",
     "text": [
      "16.0 3 5.333333333333333\n"
     ]
    }
   ],
   "source": [
    "total = 0\n",
    "count = 0\n",
    "while True:\n",
    "    number = input('Enter a number: ')\n",
    "    if number == 'done':\n",
    "        break\n",
    "    try:\n",
    "        number = float(number)\n",
    "        total += number\n",
    "        count += 1\n",
    "    except ValueError:\n",
    "        print('Invalid input')\n",
    "print(total, count, total/count)"
   ]
  },
  {
   "cell_type": "markdown",
   "id": "147286b9-8baa-4f60-8f4b-f4234123fabd",
   "metadata": {},
   "source": [
    "## Exercise 2\n",
    "Write another program that prompts for a list of numbers as\n",
    "above and at the end prints out both the maximum and minimum of the\n",
    "numbers instead of the average."
   ]
  },
  {
   "cell_type": "markdown",
   "id": "46966f78-0fac-460b-b74d-0a8a6b188caf",
   "metadata": {},
   "source": [
    "### Antwoord"
   ]
  },
  {
   "cell_type": "code",
   "execution_count": 3,
   "id": "e205ca0d-ff6b-40ba-a38a-0bf6331bde9c",
   "metadata": {},
   "outputs": [
    {
     "name": "stdin",
     "output_type": "stream",
     "text": [
      "Enter a number:  4\n",
      "Enter a number:  5\n",
      "Enter a number:  bad data\n"
     ]
    },
    {
     "name": "stdout",
     "output_type": "stream",
     "text": [
      "Invalid input\n"
     ]
    },
    {
     "name": "stdin",
     "output_type": "stream",
     "text": [
      "Enter a number:  7\n",
      "Enter a number:  done\n"
     ]
    },
    {
     "name": "stdout",
     "output_type": "stream",
     "text": [
      "Minimum=4.0, Maximum=7.0\n"
     ]
    }
   ],
   "source": [
    "maximum = None\n",
    "minimum = None\n",
    "while True:\n",
    "    number = input('Enter a number: ')\n",
    "    if number == 'done':\n",
    "        break\n",
    "    try:\n",
    "        number = float(number)\n",
    "        if minimum is None or minimum > number:\n",
    "            minimum = number\n",
    "        if maximum is None or maximum < number:\n",
    "            maximum = number\n",
    "    except ValueError:\n",
    "        print('Invalid input')\n",
    "print(f'Minimum={minimum}, Maximum={maximum}')"
   ]
  }
 ],
 "metadata": {
  "kernelspec": {
   "display_name": "Python 3 (ipykernel)",
   "language": "python",
   "name": "python3"
  },
  "language_info": {
   "codemirror_mode": {
    "name": "ipython",
    "version": 3
   },
   "file_extension": ".py",
   "mimetype": "text/x-python",
   "name": "python",
   "nbconvert_exporter": "python",
   "pygments_lexer": "ipython3",
   "version": "3.10.6"
  }
 },
 "nbformat": 4,
 "nbformat_minor": 5
}
