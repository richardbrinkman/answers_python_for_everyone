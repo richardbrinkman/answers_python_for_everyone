{
 "cells": [
  {
   "cell_type": "markdown",
   "id": "c7f34cec-b97f-4935-814e-f1c58ccd1462",
   "metadata": {},
   "source": [
    "# Antwoorden van hoofdstuk 8: Lists"
   ]
  },
  {
   "attachments": {},
   "cell_type": "markdown",
   "id": "5f0bb86f",
   "metadata": {},
   "source": [
    "## Exercise 2\n",
    "Write a function called `chop` that takes a `list` and modifies it, removing the first and last elements and returns None.\n",
    "### Antwoord"
   ]
  },
  {
   "cell_type": "code",
   "execution_count": 1,
   "id": "fea1122b",
   "metadata": {},
   "outputs": [],
   "source": [
    "def chop(my_list):\n",
    "    my_list.pop() # verwijder het laatste element\n",
    "    my_list.pop(0) # verwijder het eerste element\n",
    "    # Return None is de standaard en hoeft dus niet worden toegevoegd aan het script"
   ]
  },
  {
   "attachments": {},
   "cell_type": "markdown",
   "id": "233ed2de",
   "metadata": {},
   "source": [
    "## Exercise 2\n",
    "Figure out which line of the program below is still not properly guarded. See if you can construct a text file which causes the program to fail and then modify the program so that the line is properly guarded and test it to make sure it handles your new text file.\n",
    "```python\n",
    "fhand = open('mbox-short.txt')\n",
    "count = 0\n",
    "for line in fhand:\n",
    "    words = line.split()\n",
    "    if len(words) == 0:\n",
    "        continue\n",
    "    if words[0] != 'From':\n",
    "        continue\n",
    "    print(words[2])\n",
    "```\n",
    "### Antwoord\n",
    "Het gaat mis in de laatste regel van het script als het bestand een regel, beginnend met 'From`, bevat met minder dan 3 woorden."
   ]
  },
  {
   "cell_type": "code",
   "execution_count": 4,
   "id": "3c5deb44",
   "metadata": {},
   "outputs": [
    {
     "name": "stdout",
     "output_type": "stream",
     "text": [
      "From me"
     ]
    }
   ],
   "source": [
    "!cat mbox-too-short.txt"
   ]
  },
  {
   "cell_type": "code",
   "execution_count": 3,
   "id": "124dfc6d",
   "metadata": {},
   "outputs": [
    {
     "ename": "IndexError",
     "evalue": "list index out of range",
     "output_type": "error",
     "traceback": [
      "\u001b[0;31m---------------------------------------------------------------------------\u001b[0m",
      "\u001b[0;31mIndexError\u001b[0m                                Traceback (most recent call last)",
      "\u001b[0;32m/tmp/ipykernel_14269/968620563.py\u001b[0m in \u001b[0;36m<module>\u001b[0;34m\u001b[0m\n\u001b[1;32m      7\u001b[0m     \u001b[0;32mif\u001b[0m \u001b[0mwords\u001b[0m\u001b[0;34m[\u001b[0m\u001b[0;36m0\u001b[0m\u001b[0;34m]\u001b[0m \u001b[0;34m!=\u001b[0m \u001b[0;34m'From'\u001b[0m\u001b[0;34m:\u001b[0m\u001b[0;34m\u001b[0m\u001b[0;34m\u001b[0m\u001b[0m\n\u001b[1;32m      8\u001b[0m         \u001b[0;32mcontinue\u001b[0m\u001b[0;34m\u001b[0m\u001b[0;34m\u001b[0m\u001b[0m\n\u001b[0;32m----> 9\u001b[0;31m     \u001b[0mprint\u001b[0m\u001b[0;34m(\u001b[0m\u001b[0mwords\u001b[0m\u001b[0;34m[\u001b[0m\u001b[0;36m2\u001b[0m\u001b[0;34m]\u001b[0m\u001b[0;34m)\u001b[0m\u001b[0;34m\u001b[0m\u001b[0;34m\u001b[0m\u001b[0m\n\u001b[0m",
      "\u001b[0;31mIndexError\u001b[0m: list index out of range"
     ]
    }
   ],
   "source": [
    "fhand = open('mbox-too-short.txt')\n",
    "count = 0\n",
    "for line in fhand:\n",
    "    words = line.split()\n",
    "    if len(words) == 0:\n",
    "        continue\n",
    "    if words[0] != 'From':\n",
    "        continue\n",
    "    print(words[2])\n"
   ]
  },
  {
   "cell_type": "code",
   "execution_count": 5,
   "id": "894ca8bf",
   "metadata": {},
   "outputs": [],
   "source": [
    "fhand = open('mbox-too-short.txt')\n",
    "count = 0\n",
    "for line in fhand:\n",
    "    words = line.split()\n",
    "    if len(words) == 0:\n",
    "        continue\n",
    "    if words[0] != 'From':\n",
    "        continue\n",
    "    if len(words) >= 3:\n",
    "        print(words[2])\n"
   ]
  },
  {
   "attachments": {},
   "cell_type": "markdown",
   "id": "c8b003ad",
   "metadata": {},
   "source": [
    "## Exercise 3\n",
    "Rewrite the guardian code in the above example without two `if` statements. Instead, use a compound logical expression using the `and` logical operator with a single `if` statement.\n",
    "### Antwoord"
   ]
  },
  {
   "cell_type": "code",
   "execution_count": 7,
   "id": "9790d5a1",
   "metadata": {},
   "outputs": [
    {
     "name": "stdout",
     "output_type": "stream",
     "text": [
      "Sat\n",
      "Fri\n",
      "Fri\n",
      "Fri\n",
      "Fri\n",
      "Fri\n",
      "Fri\n",
      "Fri\n",
      "Fri\n",
      "Fri\n",
      "Fri\n",
      "Fri\n",
      "Fri\n",
      "Fri\n",
      "Fri\n",
      "Fri\n",
      "Fri\n",
      "Fri\n",
      "Fri\n",
      "Fri\n",
      "Fri\n",
      "Thu\n",
      "Thu\n",
      "Thu\n",
      "Thu\n",
      "Thu\n",
      "Thu\n"
     ]
    }
   ],
   "source": [
    "fhand = open('mbox-short.txt')\n",
    "count = 0\n",
    "for line in fhand:\n",
    "    words = line.split()\n",
    "    if len(words) != 0 and words[0] == 'From' and len(words) >= 3:\n",
    "        print(words[2])"
   ]
  },
  {
   "cell_type": "markdown",
   "id": "001a9389-f47e-4efc-a646-8571fa4be6ea",
   "metadata": {},
   "source": [
    "## Exercise 4\n",
    "Download a copy of the file www.py4e.com/code3/romeo.txt.\n",
    "Write a program to open the file romeo.txt and read it line by line. For each\n",
    "line, split the line into a list of words using the `split` function. For each word,\n",
    "check to see if the word is already in a list. If the word is not in the list, add it\n",
    "to the list. When the program completes, sort and print the resulting words in\n",
    "alphabetical order.\n",
    "```\n",
    "Enter file: romeo.txt\n",
    "['Arise', 'But', 'It', 'Juliet', 'Who', 'already',\n",
    "'and', 'breaks', 'east', 'envious', 'fair', 'grief',\n",
    "'is', 'kill', 'light', 'moon', 'pale', 'sick', 'soft',\n",
    "'sun', 'the', 'through', 'what', 'window',\n",
    "'with', 'yonder']\n",
    "```"
   ]
  },
  {
   "cell_type": "markdown",
   "id": "c3d72d2d-e83a-42d7-844d-a3021c53eeb0",
   "metadata": {},
   "source": [
    "### Antwoord"
   ]
  },
  {
   "cell_type": "code",
   "execution_count": 1,
   "id": "2b909f3c-69c1-4716-a3ca-077a1c507f2f",
   "metadata": {},
   "outputs": [
    {
     "name": "stdout",
     "output_type": "stream",
     "text": [
      "--2022-11-22 12:25:04--  http://www.py4e.com/code3/romeo.txt\n",
      "Resolving www.py4e.com (www.py4e.com)... 188.114.97.0, 188.114.96.0, 2a06:98c1:3121::, ...\n",
      "Connecting to www.py4e.com (www.py4e.com)|188.114.97.0|:80... connected.\n",
      "HTTP request sent, awaiting response... 301 Moved Permanently\n",
      "Location: https://www.py4e.com/code3/romeo.txt [following]\n",
      "--2022-11-22 12:25:04--  https://www.py4e.com/code3/romeo.txt\n",
      "Connecting to www.py4e.com (www.py4e.com)|188.114.97.0|:443... connected.\n",
      "HTTP request sent, awaiting response... 200 OK\n",
      "Length: unspecified [text/plain]\n",
      "Saving to: ‘romeo.txt’\n",
      "\n",
      "romeo.txt               [ <=>                ]     167  --.-KB/s    in 0s      \n",
      "\n",
      "2022-11-22 12:25:05 (16,4 MB/s) - ‘romeo.txt’ saved [167]\n",
      "\n"
     ]
    }
   ],
   "source": [
    "!wget www.py4e.com/code3/romeo.txt"
   ]
  },
  {
   "cell_type": "code",
   "execution_count": 3,
   "id": "9df1a857-403c-4054-bc0b-c27ac831e598",
   "metadata": {},
   "outputs": [
    {
     "name": "stdout",
     "output_type": "stream",
     "text": [
      "Enter file:  romeo.txt\n"
     ]
    },
    {
     "name": "stdout",
     "output_type": "stream",
     "text": [
      "['Arise', 'But', 'It', 'Juliet', 'Who', 'already', 'and', 'breaks', 'east', 'envious', 'fair', 'grief', 'is', 'kill', 'light', 'moon', 'pale', 'sick', 'soft', 'sun', 'the', 'through', 'what', 'window', 'with', 'yonder']\n"
     ]
    }
   ],
   "source": [
    "words = []\n",
    "filename = input('Enter file: ')\n",
    "with open(filename) as file:\n",
    "    for line in file:\n",
    "        for word in line.split():\n",
    "            if word not in words:\n",
    "                words.append(word)\n",
    "words.sort()\n",
    "print(words)"
   ]
  },
  {
   "cell_type": "markdown",
   "id": "2a4b30fd-5a6c-44b1-8f45-0c3fe741f1db",
   "metadata": {},
   "source": [
    "## Exercise 5\n",
    "Write a program to read through the mail box data and when you\n",
    "find line that starts with “From”, you will split the line into words using the\n",
    "split function. We are interested in who sent the message, which is the second\n",
    "word on the From line.\n",
    "```\n",
    "From stephen.marquard@uct.ac.za Sat Jan 5 09:14:16 2008\n",
    "```\n",
    "You will parse the From line and print out the second word for each From line,\n",
    "then you will also count the number of From (not From:) lines and print out a\n",
    "count at the end. This is a good sample output with a few lines removed:\n",
    "```\n",
    "Enter a file name: mbox-short.txt\n",
    "stephen.marquard@uct.ac.za\n",
    "louis@media.berkeley.edu zqian@umich.edu\n",
    "[...some output removed...]\n",
    "ray@media.berkeley.edu\n",
    "cwen@iupui.edu cwen@iupui.edu\n",
    "cwen@iupui.edu\n",
    "There were 27 lines in the file with From as the first word\n",
    "```"
   ]
  },
  {
   "cell_type": "markdown",
   "id": "a268e7cc-53a0-4902-9153-829268fcb950",
   "metadata": {},
   "source": [
    "### Antwoord"
   ]
  },
  {
   "cell_type": "code",
   "execution_count": 4,
   "id": "f87f11c9-dd58-4669-bdf8-be1a34f7ce38",
   "metadata": {},
   "outputs": [
    {
     "name": "stdout",
     "output_type": "stream",
     "text": [
      "Enter a file name:  mbox-short.txt\n"
     ]
    },
    {
     "name": "stdout",
     "output_type": "stream",
     "text": [
      "stephen.marquard@uct.ac.za\n",
      "louis@media.berkeley.edu\n",
      "zqian@umich.edu\n",
      "rjlowe@iupui.edu\n",
      "zqian@umich.edu\n",
      "rjlowe@iupui.edu\n",
      "cwen@iupui.edu\n",
      "cwen@iupui.edu\n",
      "gsilver@umich.edu\n",
      "gsilver@umich.edu\n",
      "zqian@umich.edu\n",
      "gsilver@umich.edu\n",
      "wagnermr@iupui.edu\n",
      "zqian@umich.edu\n",
      "antranig@caret.cam.ac.uk\n",
      "gopal.ramasammycook@gmail.com\n",
      "david.horwitz@uct.ac.za\n",
      "david.horwitz@uct.ac.za\n",
      "david.horwitz@uct.ac.za\n",
      "david.horwitz@uct.ac.za\n",
      "stephen.marquard@uct.ac.za\n",
      "louis@media.berkeley.edu\n",
      "louis@media.berkeley.edu\n",
      "ray@media.berkeley.edu\n",
      "cwen@iupui.edu\n",
      "cwen@iupui.edu\n",
      "cwen@iupui.edu\n",
      "There were 27 lines in the file with From as the first word\n"
     ]
    }
   ],
   "source": [
    "count = 0\n",
    "filename = input('Enter a file name: ')\n",
    "with open(filename) as file:\n",
    "    for line in file:\n",
    "        if line.startswith('From '):\n",
    "            print(line.split()[1])\n",
    "            count += 1\n",
    "print(f'There were {count} lines in the file with From as the first word')"
   ]
  },
  {
   "cell_type": "markdown",
   "id": "8ee3f25b-f9ad-4a12-bf94-4933c5abf89a",
   "metadata": {},
   "source": [
    "## Exercise 6\n",
    "Rewrite the program that prompts the user for a list of numbers\n",
    "and prints out the maximum and minimum of the numbers at the end when\n",
    "the user enters “done”. Write the program to store the numbers the user\n",
    "enters in a `list` and use the `max()` and `min()` functions to compute the\n",
    "maximum and minimum numbers after the loop completes.\n",
    "```\n",
    "Enter a number: 6\n",
    "Enter a number: 2\n",
    "Enter a number: 9\n",
    "Enter a number: 3\n",
    "Enter a number: 5\n",
    "Enter a number: done\n",
    "Maximum: 9.0\n",
    "Minimum: 2.0\n",
    "```"
   ]
  },
  {
   "cell_type": "markdown",
   "id": "4df3dfc8-8ede-4848-846c-3d171ae59387",
   "metadata": {},
   "source": [
    "### Antwoord"
   ]
  },
  {
   "cell_type": "code",
   "execution_count": 8,
   "id": "1601a938-56b0-427f-86f1-cae08e29c124",
   "metadata": {},
   "outputs": [
    {
     "name": "stdout",
     "output_type": "stream",
     "text": [
      "Enter a number:  6\n",
      "Enter a number:  2\n",
      "Enter a number:  9\n",
      "Enter a number:  3\n",
      "Enter a number:  5\n",
      "Enter a number:  done\n"
     ]
    },
    {
     "name": "stdout",
     "output_type": "stream",
     "text": [
      "Maximum: 9.0\n",
      "Minimum: 2.0\n"
     ]
    }
   ],
   "source": [
    "numbers = []\n",
    "while True:\n",
    "    number = input('Enter a number: ')\n",
    "    if number == 'done':\n",
    "        break\n",
    "    try:\n",
    "        number = float(number)\n",
    "        numbers.append(number)\n",
    "    except ValueError:\n",
    "        print('Invalid input')\n",
    "print(f'Maximum: {max(numbers)}\\nMinimum: {min(numbers)}')"
   ]
  }
 ],
 "metadata": {
  "kernelspec": {
   "display_name": "Python 3",
   "language": "python",
   "name": "python3"
  },
  "language_info": {
   "codemirror_mode": {
    "name": "ipython",
    "version": 3
   },
   "file_extension": ".py",
   "mimetype": "text/x-python",
   "name": "python",
   "nbconvert_exporter": "python",
   "pygments_lexer": "ipython3",
   "version": "3.10.6"
  },
  "vscode": {
   "interpreter": {
    "hash": "31f2aee4e71d21fbe5cf8b01ff0e069b9275f58929596ceb00d14d90e3e16cd6"
   }
  }
 },
 "nbformat": 4,
 "nbformat_minor": 5
}
