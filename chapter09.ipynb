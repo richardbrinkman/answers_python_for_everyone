{
 "cells": [
  {
   "cell_type": "markdown",
   "id": "c69ba6bd-879e-4da4-8d65-d36b69b2b2a7",
   "metadata": {},
   "source": [
    "# Antwoorden van hoofdstuk 9: Dictionaries"
   ]
  },
  {
   "attachments": {},
   "cell_type": "markdown",
   "id": "dca4b346",
   "metadata": {},
   "source": [
    "## Exercise 1\n",
    "Write a program that reads the words in [words.txt](https://www.py4e.com/code3/words.txt) and stores them as keys in a dictionary. It doesn't matter what the values are. Then you can use the `in` operator as a fast way to check whether a string is in the dictionary.\n",
    "### Antwoord"
   ]
  },
  {
   "cell_type": "code",
   "execution_count": 1,
   "id": "38fb5376",
   "metadata": {},
   "outputs": [
    {
     "name": "stdout",
     "output_type": "stream",
     "text": [
      "\"programs\" is in te words.txt:  True\n"
     ]
    }
   ],
   "source": [
    "words = {}\n",
    "with open('words.txt') as file:\n",
    "    for line in file:\n",
    "        for word in line.rstrip().split():\n",
    "            words[word] = None\n",
    "\n",
    "\n",
    "print('\"programs\" is in te words.txt: ', 'programs' in words)"
   ]
  },
  {
   "cell_type": "markdown",
   "id": "a855b614-96c4-4d67-9312-70745097018a",
   "metadata": {},
   "source": [
    "## Exercise 2\n",
    "Write a program that categorizes each mail message by which day\n",
    "of the week the commit was done. To do this look for lines that start with\n",
    "“From”, then look for the third word and keep a running count of each of the\n",
    "days of the week. At the end of the program print out the contents of your\n",
    "dictionary (order does not matter).\n",
    "Sample Line:\n",
    "```\n",
    "From stephen.marquard@uct.ac.za Sat Jan 5 09:14:16 2008 Sample\n",
    "```\n",
    "Execution:\n",
    "```\n",
    "Enter a file name: mbox-short.txt\n",
    "{'Fri': 20, 'Thu': 6, 'Sat': 1}\n",
    "```"
   ]
  },
  {
   "cell_type": "markdown",
   "id": "eed5a612-47fa-4ded-8f44-717d31be65c5",
   "metadata": {},
   "source": [
    "### Antwoord"
   ]
  },
  {
   "cell_type": "code",
   "execution_count": 1,
   "id": "4811af99-450f-4536-adfb-8be2c04582a9",
   "metadata": {},
   "outputs": [
    {
     "name": "stdout",
     "output_type": "stream",
     "text": [
      "Enter a file name:  mbox-short.txt\n"
     ]
    },
    {
     "name": "stdout",
     "output_type": "stream",
     "text": [
      "{'Sun': 0, 'Mon': 0, 'Tue': 0, 'Wed': 0, 'Thu': 6, 'Fri': 20, 'Sat': 1}\n"
     ]
    }
   ],
   "source": [
    "filename = input(\"Enter a file name: \")\n",
    "days = {\n",
    "    \"Sun\": 0,\n",
    "    \"Mon\": 0,\n",
    "    \"Tue\": 0,\n",
    "    \"Wed\": 0,\n",
    "    \"Thu\": 0,\n",
    "    \"Fri\": 0,\n",
    "    \"Sat\": 0\n",
    "}\n",
    "with open(filename) as input_file:\n",
    "    for line in input_file:\n",
    "        if line.startswith(\"From \"):\n",
    "            words = line.split(\" \")\n",
    "            day = words[2]\n",
    "            days[day] += 1\n",
    "print(days)"
   ]
  },
  {
   "cell_type": "markdown",
   "id": "fa3cea47-b92c-4c51-a1ac-851be058241e",
   "metadata": {},
   "source": [
    "## Exercise 3\n",
    "Write a program to read through a mail log, build a histogram using\n",
    "a dictionary to count how many messages have come from each email\n",
    "address, and print the dictionary.\n",
    "```\n",
    "Enter file name: mbox-short.txt\n",
    "{'gopal.ramasammycook@gmail.com': 1, 'louis@media.berkeley.edu': 3,\n",
    "'cwen@iupui.edu': 5, 'antranig@caret.cam.ac.uk': 1,\n",
    "'rjlowe@iupui.edu': 2, 'gsilver@umich.edu': 3,\n",
    "'david.horwitz@uct.ac.za': 4, 'wagnermr@iupui.edu': 1,\n",
    "'zqian@umich.edu': 4, 'stephen.marquard@uct.ac.za': 2, 'ray@media.berkeley.edu': 1}\n",
    "```"
   ]
  },
  {
   "cell_type": "markdown",
   "id": "42f92e07-909c-4a6f-9ab5-851e85b07334",
   "metadata": {},
   "source": [
    "### Antwoord"
   ]
  },
  {
   "cell_type": "code",
   "execution_count": 2,
   "id": "54e56f11-06e0-40b8-92be-c71c64efd107",
   "metadata": {},
   "outputs": [
    {
     "name": "stdout",
     "output_type": "stream",
     "text": [
      "Enter a file name:  mbox-short.txt\n"
     ]
    },
    {
     "name": "stdout",
     "output_type": "stream",
     "text": [
      "{'stephen.marquard@uct.ac.za': 2, 'louis@media.berkeley.edu': 3, 'zqian@umich.edu': 4, 'rjlowe@iupui.edu': 2, 'cwen@iupui.edu': 5, 'gsilver@umich.edu': 3, 'wagnermr@iupui.edu': 1, 'antranig@caret.cam.ac.uk': 1, 'gopal.ramasammycook@gmail.com': 1, 'david.horwitz@uct.ac.za': 4, 'ray@media.berkeley.edu': 1}\n"
     ]
    }
   ],
   "source": [
    "filename = input(\"Enter a file name: \")\n",
    "received_from = dict()\n",
    "with open(filename) as input_file:\n",
    "    for line in input_file:\n",
    "        if line.startswith(\"From \"):\n",
    "            words = line.split(\" \")\n",
    "            email = words[1]\n",
    "            received_from[email] = received_from.get(email, 0) + 1\n",
    "print(received_from)"
   ]
  },
  {
   "cell_type": "markdown",
   "id": "663d1246-2f62-4672-b1cd-9337d3aff351",
   "metadata": {},
   "source": [
    "## Exercise 4\n",
    "Add code to the above program to figure out who has the most\n",
    "messages in the file. After all the data has been read and the dictionary has\n",
    "been created, look through the dictionary using a maximum loop (see Chapter\n",
    "5: Maximum and minimum loops) to find who has the most messages and\n",
    "print how many messages the person has.\n",
    "```\n",
    "Enter a file name: mbox-short.txt\n",
    "cwen@iupui.edu 5\n",
    "```\n",
    "\n",
    "```\n",
    "Enter a file name: mbox.txt\n",
    "zqian@umich.edu 195\n",
    "```"
   ]
  },
  {
   "cell_type": "markdown",
   "id": "04836ab9-f711-4c9f-bc3a-f58aff0bfe3e",
   "metadata": {},
   "source": [
    "### Antwoord"
   ]
  },
  {
   "cell_type": "code",
   "execution_count": 3,
   "id": "fc1770b7-f42b-4472-b225-5a5f1831643e",
   "metadata": {},
   "outputs": [
    {
     "name": "stdout",
     "output_type": "stream",
     "text": [
      "Enter a file name:  mbox-short.txt\n"
     ]
    },
    {
     "name": "stdout",
     "output_type": "stream",
     "text": [
      "cwen@iupui.edu 5\n"
     ]
    }
   ],
   "source": [
    "filename = input(\"Enter a file name: \")\n",
    "received_from = dict()\n",
    "with open(filename) as input_file:\n",
    "    for line in input_file:\n",
    "        if line.startswith(\"From \"):\n",
    "            words = line.split(\" \")\n",
    "            email = words[1]\n",
    "            received_from[email] = received_from.get(email, 0) + 1\n",
    "\n",
    "max_email = None\n",
    "max_count = 0\n",
    "for email, count in received_from.items():\n",
    "    if max_email == None or max_count < count:\n",
    "        max_email = email\n",
    "        max_count = count\n",
    "print(max_email, max_count)"
   ]
  },
  {
   "cell_type": "markdown",
   "id": "50cccd08-c781-413f-ba7d-3db8c9f4e220",
   "metadata": {},
   "source": [
    "## Exercise 5\n",
    "This program records the domain name (instead of the address)\n",
    "where the message was sent from instead of who the mail came from (i.e.,\n",
    "the whole email address). At the end of the program, print out the contents of\n",
    "your dictionary.\n",
    "```\n",
    "Enter a file name: mbox-short.txt\n",
    "{'media.berkeley.edu': 4, 'uct.ac.za': 6, 'umich.edu': 7,\n",
    "'gmail.com': 1, 'caret.cam.ac.uk': 1, 'iupui.edu': 8}\n",
    "```"
   ]
  },
  {
   "cell_type": "markdown",
   "id": "cd429342-7aca-4b92-821a-b4c1bba353b8",
   "metadata": {},
   "source": [
    "### Antwoord"
   ]
  },
  {
   "cell_type": "code",
   "execution_count": 5,
   "id": "47521e8f-7e69-4d01-a25f-32a1e4bc2820",
   "metadata": {},
   "outputs": [
    {
     "name": "stdout",
     "output_type": "stream",
     "text": [
      "Enter a file name:  mbox-short.txt\n"
     ]
    },
    {
     "name": "stdout",
     "output_type": "stream",
     "text": [
      "{'uct.ac.za': 6, 'media.berkeley.edu': 4, 'umich.edu': 7, 'iupui.edu': 8, 'caret.cam.ac.uk': 1, 'gmail.com': 1}\n"
     ]
    }
   ],
   "source": [
    "filename = input(\"Enter a file name: \")\n",
    "received_from = dict()\n",
    "with open(filename) as input_file:\n",
    "    for line in input_file:\n",
    "        if line.startswith(\"From \"):\n",
    "            words = line.split(\" \")\n",
    "            email = words[1]\n",
    "            _, domain = email.split(\"@\")\n",
    "            received_from[domain] = received_from.get(domain, 0) + 1\n",
    "print(received_from)"
   ]
  }
 ],
 "metadata": {
  "kernelspec": {
   "display_name": "Python 3",
   "language": "python",
   "name": "python3"
  },
  "language_info": {
   "codemirror_mode": {
    "name": "ipython",
    "version": 3
   },
   "file_extension": ".py",
   "mimetype": "text/x-python",
   "name": "python",
   "nbconvert_exporter": "python",
   "pygments_lexer": "ipython3",
   "version": "3.10.6"
  },
  "vscode": {
   "interpreter": {
    "hash": "31f2aee4e71d21fbe5cf8b01ff0e069b9275f58929596ceb00d14d90e3e16cd6"
   }
  }
 },
 "nbformat": 4,
 "nbformat_minor": 5
}
