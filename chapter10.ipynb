{
 "cells": [
  {
   "cell_type": "markdown",
   "id": "5d9e8aaa-822c-4b17-bc60-e545445dd626",
   "metadata": {},
   "source": [
    "# Antwoorden van hoofdstuk 10: Tuples"
   ]
  },
  {
   "cell_type": "markdown",
   "id": "a3f06728-acab-4b78-a3b9-c25f9ee7ae9f",
   "metadata": {},
   "source": [
    "## Exercise 1\n",
    "Revise a previous program as follows: Read and parse the “From”\n",
    "lines and pull out the addresses from the line. Count the number of messages\n",
    "from each person using a dictionary.\n",
    "After all the data has been read, print the person with the most commits by\n",
    "creating a list of (count, email) tuples from the dictionary. Then sort the list in\n",
    "reverse order and print out the person who has the most commits.\n",
    "Sample Line:\n",
    "```\n",
    "From stephen.marquard@uct.ac.za Sat Jan 5 09:14:16 2008\n",
    "```\n",
    "\n",
    "```\n",
    "Enter a file name: mbox-short.txt\n",
    "cwen@iupui.edu 5\n",
    "```\n",
    "```\n",
    "Enter a file name: mbox.txt \n",
    "zqian@umich.edu 195\n",
    "```"
   ]
  },
  {
   "cell_type": "markdown",
   "id": "43cc1257-1299-44b3-8467-04b511f715f6",
   "metadata": {},
   "source": [
    "### Antwoord"
   ]
  },
  {
   "cell_type": "code",
   "execution_count": 1,
   "id": "2872a864-affc-4f45-b85a-9bbad8ee6a70",
   "metadata": {},
   "outputs": [
    {
     "name": "stdin",
     "output_type": "stream",
     "text": [
      "Enter a file name:  mbox-short.txt\n"
     ]
    },
    {
     "name": "stdout",
     "output_type": "stream",
     "text": [
      "cwen@iupui.edu 5\n"
     ]
    }
   ],
   "source": [
    "filename = input(\"Enter a file name: \")\n",
    "received_from = dict()\n",
    "with open(filename) as input_file:\n",
    "    for line in input_file:\n",
    "        if line.startswith(\"From \"):\n",
    "            words = line.split(\" \")\n",
    "            email = words[1]\n",
    "            received_from[email] = received_from.get(email, 0) + 1\n",
    "\n",
    "received_list = []\n",
    "for email, count in received_from.items():\n",
    "    received_list.append((count, email))\n",
    "received_list.sort(reverse=True)\n",
    "count, email = received_list[0]\n",
    "print(email, count)"
   ]
  },
  {
   "cell_type": "markdown",
   "id": "2afd3af1-5d0b-43f1-b1d6-0086b7bd5137",
   "metadata": {},
   "source": [
    "## Exercise 2\n",
    "This program counts the distribution of the hour of the day for\n",
    "each of the messages. You can pull the hour from the “From” line by finding\n",
    "the time string and then splitting that string into parts using the colon\n",
    "character. Once you have accumulated the counts for each hour, print out the\n",
    "counts, one per line, sorted by hour as shown below.\n",
    "```\n",
    "Enter a file name: mbox-short.txt\n",
    "04 3\n",
    "06 1\n",
    "07 1\n",
    "09 2\n",
    "10 3\n",
    "11 6\n",
    "14 1\n",
    "15 2\n",
    "16 4\n",
    "17 2\n",
    "18 1\n",
    "19 1\n",
    "```"
   ]
  },
  {
   "cell_type": "markdown",
   "id": "a9b987e4-f1f6-4802-b1a8-3ea8a986900f",
   "metadata": {},
   "source": [
    "### Antwoord"
   ]
  },
  {
   "cell_type": "code",
   "execution_count": 2,
   "id": "d8980d29-cf2d-4fe9-a488-e547d511e1cd",
   "metadata": {},
   "outputs": [
    {
     "name": "stdin",
     "output_type": "stream",
     "text": [
      "Enter a file name:  mbox-short.txt\n"
     ]
    },
    {
     "name": "stdout",
     "output_type": "stream",
     "text": [
      "04 3\n",
      "06 1\n",
      "07 1\n",
      "09 2\n",
      "10 3\n",
      "11 6\n",
      "14 1\n",
      "15 2\n",
      "16 4\n",
      "17 2\n",
      "18 1\n",
      "19 1\n"
     ]
    }
   ],
   "source": [
    "filename = input(\"Enter a file name: \")\n",
    "hours = dict()\n",
    "with open(filename) as input_file:\n",
    "    for line in input_file:\n",
    "        if line.startswith(\"From \"):\n",
    "            words = line.split(\" \")\n",
    "            time = words[-2]\n",
    "            hour, _, _ = time.split(\":\")\n",
    "            hours[hour] = hours.get(hour, 0) + 1\n",
    "\n",
    "for hour, count in sorted(hours.items()):\n",
    "    print(hour, count)"
   ]
  },
  {
   "cell_type": "markdown",
   "id": "3dc3d725-cc89-4700-991d-006cbec16e02",
   "metadata": {},
   "source": [
    "## Exercise 3\n",
    "Write a program that reads a file and prints the letters in\n",
    "decreasing order of frequency. Your program should convert all the input to\n",
    "lower case and only count the letters a-z. Your program should not count\n",
    "spaces, digits, punctuation, or anything other than the letters a-z. Find text\n",
    "samples from several different languages and see how letter frequency varies\n",
    "between languages. Compare your results with the tables at\n",
    "https://wikipedia.org/wiki/Letter_frequencies."
   ]
  },
  {
   "cell_type": "markdown",
   "id": "08111ae6-2a42-4def-8759-85c391a255da",
   "metadata": {},
   "source": [
    "### Antwoord"
   ]
  },
  {
   "cell_type": "code",
   "execution_count": 3,
   "id": "79d0c65a-6c27-49b5-951f-4557aa72a18d",
   "metadata": {},
   "outputs": [
    {
     "name": "stdin",
     "output_type": "stream",
     "text": [
      "Enter a file name:  romeo.txt\n"
     ]
    },
    {
     "name": "stdout",
     "output_type": "stream",
     "text": [
      "[(14, 'i'), (12, 't'), (12, 'e'), (11, 's'), (11, 'a'), (9, 'n'), (9, 'h'), (8, 'o'), (7, 'r'), (6, 'u'), (6, 'l'), (6, 'd'), (5, 'w'), (3, 'k'), (3, 'g'), (3, 'f'), (2, 'y'), (2, 'b'), (1, 'v'), (1, 'p'), (1, 'm'), (1, 'j'), (1, 'c')]\n"
     ]
    }
   ],
   "source": [
    "filename = input(\"Enter a file name: \")\n",
    "characters = dict()\n",
    "with open(filename) as input_file:\n",
    "    for line in input_file:\n",
    "        for character in line.lower():\n",
    "            if \"a\" <= character <= \"z\":\n",
    "                characters[character] = characters.get(character, 0) + 1\n",
    "\n",
    "character_list = []\n",
    "for character, count in characters.items():\n",
    "    character_list.append((count, character))\n",
    "character_list.sort(reverse=True)\n",
    "print(character_list)"
   ]
  }
 ],
 "metadata": {
  "kernelspec": {
   "display_name": "Python 3 (ipykernel)",
   "language": "python",
   "name": "python3"
  },
  "language_info": {
   "codemirror_mode": {
    "name": "ipython",
    "version": 3
   },
   "file_extension": ".py",
   "mimetype": "text/x-python",
   "name": "python",
   "nbconvert_exporter": "python",
   "pygments_lexer": "ipython3",
   "version": "3.10.6"
  }
 },
 "nbformat": 4,
 "nbformat_minor": 5
}
