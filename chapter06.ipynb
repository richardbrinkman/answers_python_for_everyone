{
 "cells": [
  {
   "cell_type": "markdown",
   "id": "10f2b45d-103c-4f32-a24b-5e90f104751e",
   "metadata": {},
   "source": [
    "# Antwoorden van hoofdstuk 6: Strings"
   ]
  },
  {
   "attachments": {},
   "cell_type": "markdown",
   "id": "110bc70e",
   "metadata": {},
   "source": [
    "## Exercise 1\n",
    "Write a `while` loop that starts at the last character in the sstring and works its way backwards to the first character in the string, printing each letter on a separate line, except backwards.\n",
    "### Antwoord"
   ]
  },
  {
   "cell_type": "code",
   "execution_count": 1,
   "id": "fbb32749",
   "metadata": {},
   "outputs": [
    {
     "name": "stdout",
     "output_type": "stream",
     "text": [
      "a\n",
      "n\n",
      "a\n",
      "n\n",
      "a\n",
      "b\n"
     ]
    }
   ],
   "source": [
    "fruit = 'banana'\n",
    "index = len(fruit) - 1\n",
    "while index >= 0:\n",
    "    print(fruit[index])\n",
    "    index -= 1"
   ]
  },
  {
   "attachments": {},
   "cell_type": "markdown",
   "id": "926ea5d7",
   "metadata": {},
   "source": [
    "Alternatief 1 met een `for` lus:"
   ]
  },
  {
   "cell_type": "code",
   "execution_count": 2,
   "id": "62a4b613",
   "metadata": {},
   "outputs": [
    {
     "name": "stdout",
     "output_type": "stream",
     "text": [
      "a\n",
      "n\n",
      "a\n",
      "n\n",
      "a\n",
      "b\n"
     ]
    }
   ],
   "source": [
    "for i in range(len(fruit) - 1, -1, -1):\n",
    "    print(fruit[i])"
   ]
  },
  {
   "attachments": {},
   "cell_type": "markdown",
   "id": "743d8bfb",
   "metadata": {},
   "source": [
    "Alternatief 2 met een `for` lus en de `reversed` functie:"
   ]
  },
  {
   "cell_type": "code",
   "execution_count": 3,
   "id": "37da6281",
   "metadata": {},
   "outputs": [
    {
     "name": "stdout",
     "output_type": "stream",
     "text": [
      "a\n",
      "n\n",
      "a\n",
      "n\n",
      "a\n",
      "b\n"
     ]
    }
   ],
   "source": [
    "for character in reversed(fruit):\n",
    "    print(character)"
   ]
  },
  {
   "attachments": {},
   "cell_type": "markdown",
   "id": "88ccb911",
   "metadata": {},
   "source": [
    "## Exercise 2\n",
    "Given that `fruit` is a string, what does `fruit[:]` mean?\n",
    "### Antwoord\n",
    "In `fruit[:]` zijn de begin en eind indices weggelaten. In dat geval gelden de defaults, oftewel alle elementen vanaf `0` tot het einde. Effectief is dus `fruit[:]` een manier om een kopie van een lijst te maken."
   ]
  },
  {
   "attachments": {},
   "cell_type": "markdown",
   "id": "03fd8428",
   "metadata": {},
   "source": [
    "## Exercise 3\n",
    "Encapsulate the code below in a function named `count`, and generalize it so that it accepts the string and the letter as arguments.\n",
    "```python\n",
    "word = 'banana'\n",
    "count = 0\n",
    "for letter in word:\n",
    "    if letter == 'a':\n",
    "        count = count + 1\n",
    "print(count)"
   ]
  },
  {
   "cell_type": "code",
   "execution_count": 4,
   "id": "baee4025",
   "metadata": {},
   "outputs": [
    {
     "name": "stdout",
     "output_type": "stream",
     "text": [
      "3\n"
     ]
    }
   ],
   "source": [
    "def count(word, character):\n",
    "    count = 0\n",
    "    for letter in word:\n",
    "        if letter == character:\n",
    "            count = count + 1\n",
    "    print(count)\n",
    "\n",
    "\n",
    "count('banana', 'a')"
   ]
  },
  {
   "attachments": {},
   "cell_type": "markdown",
   "id": "0ca42730",
   "metadata": {},
   "source": [
    "## Exercise 4\n",
    "There is a string method called `count` that is similar to the function in the previous exercise. Read the documentation of this method at https://docs.python.org/3.5/library/stdtypes.html#string-methods and write an invocation that counts the number of times the letter 'a' occurs in 'banana'.\n",
    "### Antwoord"
   ]
  },
  {
   "cell_type": "code",
   "execution_count": 5,
   "id": "85a5c168",
   "metadata": {},
   "outputs": [
    {
     "name": "stdout",
     "output_type": "stream",
     "text": [
      "3\n"
     ]
    }
   ],
   "source": [
    "print('banana'.count('a'))"
   ]
  },
  {
   "cell_type": "markdown",
   "id": "edf0ce3c-f23c-4109-be95-41290d067ec1",
   "metadata": {},
   "source": [
    "## Exercise 5\n",
    "Take the following Python code that stores a string:"
   ]
  },
  {
   "cell_type": "code",
   "execution_count": 6,
   "id": "56caccf2-7b93-409a-a259-9154541f1903",
   "metadata": {},
   "outputs": [],
   "source": [
    "str = 'X-DSPAM-Confidence:0.8475'"
   ]
  },
  {
   "cell_type": "markdown",
   "id": "fb6b5d6c-224e-4990-bd52-5ecd8b7c0462",
   "metadata": {},
   "source": [
    "Use `find` and string slicing to extract the portion of the string after the colon\n",
    "character and then use the `float` function to convert the extracted string into a\n",
    "floating point number."
   ]
  },
  {
   "cell_type": "markdown",
   "id": "e7f1a8de-f53d-4d59-b697-04b8f6038c2c",
   "metadata": {},
   "source": [
    "### Antwoord"
   ]
  },
  {
   "cell_type": "code",
   "execution_count": 7,
   "id": "0a116c56-1549-4f30-908d-6d93ba960512",
   "metadata": {},
   "outputs": [
    {
     "data": {
      "text/plain": [
       "0.8475"
      ]
     },
     "execution_count": 7,
     "metadata": {},
     "output_type": "execute_result"
    }
   ],
   "source": [
    "# As a oneliner\n",
    "float(str[str.find(':')+1:])"
   ]
  },
  {
   "cell_type": "code",
   "execution_count": 8,
   "id": "150ac3bd-543c-4b60-936e-65eef14f9d18",
   "metadata": {},
   "outputs": [
    {
     "data": {
      "text/plain": [
       "0.8475"
      ]
     },
     "execution_count": 8,
     "metadata": {},
     "output_type": "execute_result"
    }
   ],
   "source": [
    "# Or with help of a variable\n",
    "index = str.find(':') + 1\n",
    "float(str[index:])"
   ]
  },
  {
   "cell_type": "markdown",
   "id": "4cc9d805-aa8b-4768-9ec6-62c48e6a94b1",
   "metadata": {},
   "source": [
    "## Exercise 6\n",
    "Read the documentation of the string methods at\n",
    "https://docs.python.org/library/stdtypes.html#string-methods. You might\n",
    "want to experiment with some of them to make sure you understand how\n",
    "they work. `strip` and `replace` are particularly useful.\n",
    "The documentation uses a syntax that might be confusing. For example, in\n",
    "`find(sub[, start[, end]])`, the brackets indicate optional arguments. So `sub` is\n",
    "required, but `start` is optional, and if you include `start`, then `end` is optional."
   ]
  },
  {
   "cell_type": "markdown",
   "id": "6201dff2-bfda-4333-8e6f-9cce4b59b4cb",
   "metadata": {},
   "source": [
    "### Antwoord"
   ]
  },
  {
   "cell_type": "code",
   "execution_count": 9,
   "id": "676a4033-4f2b-4d09-99ad-7638bb0cdddc",
   "metadata": {},
   "outputs": [
    {
     "data": {
      "text/plain": [
       "'0.8475'"
      ]
     },
     "execution_count": 9,
     "metadata": {},
     "output_type": "execute_result"
    }
   ],
   "source": [
    "str.strip('X-DSPAM-Confidence:')"
   ]
  },
  {
   "cell_type": "code",
   "execution_count": 10,
   "id": "e0b19f42-4083-46fb-acb4-079d2ca4b8ea",
   "metadata": {},
   "outputs": [
    {
     "data": {
      "text/plain": [
       "'spam-score:0.8475'"
      ]
     },
     "execution_count": 10,
     "metadata": {},
     "output_type": "execute_result"
    }
   ],
   "source": [
    "str.replace('X-DSPAM-Confidence', 'spam-score')"
   ]
  }
 ],
 "metadata": {
  "kernelspec": {
   "display_name": "Python 3",
   "language": "python",
   "name": "python3"
  },
  "language_info": {
   "codemirror_mode": {
    "name": "ipython",
    "version": 3
   },
   "file_extension": ".py",
   "mimetype": "text/x-python",
   "name": "python",
   "nbconvert_exporter": "python",
   "pygments_lexer": "ipython3",
   "version": "3.10.6"
  },
  "vscode": {
   "interpreter": {
    "hash": "31f2aee4e71d21fbe5cf8b01ff0e069b9275f58929596ceb00d14d90e3e16cd6"
   }
  }
 },
 "nbformat": 4,
 "nbformat_minor": 5
}
