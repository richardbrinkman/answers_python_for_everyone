{
 "cells": [
  {
   "cell_type": "markdown",
   "id": "10f2b45d-103c-4f32-a24b-5e90f104751e",
   "metadata": {},
   "source": [
    "# Antwoorden van hoofdstuk 6: Strings"
   ]
  },
  {
   "cell_type": "markdown",
   "id": "edf0ce3c-f23c-4109-be95-41290d067ec1",
   "metadata": {},
   "source": [
    "## Exercise 5\n",
    "Take the following Python code that stores a string:"
   ]
  },
  {
   "cell_type": "code",
   "execution_count": 1,
   "id": "56caccf2-7b93-409a-a259-9154541f1903",
   "metadata": {},
   "outputs": [],
   "source": [
    "str = 'X-DSPAM-Confidence:0.8475'"
   ]
  },
  {
   "cell_type": "markdown",
   "id": "fb6b5d6c-224e-4990-bd52-5ecd8b7c0462",
   "metadata": {},
   "source": [
    "Use `find` and string slicing to extract the portion of the string after the colon\n",
    "character and then use the `float` function to convert the extracted string into a\n",
    "floating point number."
   ]
  },
  {
   "cell_type": "markdown",
   "id": "e7f1a8de-f53d-4d59-b697-04b8f6038c2c",
   "metadata": {},
   "source": [
    "### Antwoord"
   ]
  },
  {
   "cell_type": "code",
   "execution_count": 3,
   "id": "0a116c56-1549-4f30-908d-6d93ba960512",
   "metadata": {},
   "outputs": [
    {
     "data": {
      "text/plain": [
       "0.8475"
      ]
     },
     "execution_count": 3,
     "metadata": {},
     "output_type": "execute_result"
    }
   ],
   "source": [
    "# As a oneliner\n",
    "float(str[str.find(':')+1:])"
   ]
  },
  {
   "cell_type": "code",
   "execution_count": 4,
   "id": "150ac3bd-543c-4b60-936e-65eef14f9d18",
   "metadata": {},
   "outputs": [
    {
     "data": {
      "text/plain": [
       "0.8475"
      ]
     },
     "execution_count": 4,
     "metadata": {},
     "output_type": "execute_result"
    }
   ],
   "source": [
    "# Or with help of a variable\n",
    "index = str.find(':') + 1\n",
    "float(str[index:])"
   ]
  },
  {
   "cell_type": "markdown",
   "id": "4cc9d805-aa8b-4768-9ec6-62c48e6a94b1",
   "metadata": {},
   "source": [
    "## Exercise 6\n",
    "Read the documentation of the string methods at\n",
    "https://docs.python.org/library/stdtypes.html#string-methods. You might\n",
    "want to experiment with some of them to make sure you understand how\n",
    "they work. `strip` and `replace` are particularly useful.\n",
    "The documentation uses a syntax that might be confusing. For example, in\n",
    "`find(sub[, start[, end]])`, the brackets indicate optional arguments. So `sub` is\n",
    "required, but `start` is optional, and if you include `start`, then `end` is optional."
   ]
  },
  {
   "cell_type": "markdown",
   "id": "6201dff2-bfda-4333-8e6f-9cce4b59b4cb",
   "metadata": {},
   "source": [
    "### Antwoord"
   ]
  },
  {
   "cell_type": "code",
   "execution_count": 5,
   "id": "676a4033-4f2b-4d09-99ad-7638bb0cdddc",
   "metadata": {},
   "outputs": [
    {
     "data": {
      "text/plain": [
       "'0.8475'"
      ]
     },
     "execution_count": 5,
     "metadata": {},
     "output_type": "execute_result"
    }
   ],
   "source": [
    "str.strip('X-DSPAM-Confidence:')"
   ]
  },
  {
   "cell_type": "code",
   "execution_count": 6,
   "id": "e0b19f42-4083-46fb-acb4-079d2ca4b8ea",
   "metadata": {},
   "outputs": [
    {
     "data": {
      "text/plain": [
       "'spam-score:0.8475'"
      ]
     },
     "execution_count": 6,
     "metadata": {},
     "output_type": "execute_result"
    }
   ],
   "source": [
    "str.replace('X-DSPAM-Confidence', 'spam-score')"
   ]
  }
 ],
 "metadata": {
  "kernelspec": {
   "display_name": "Python 3 (ipykernel)",
   "language": "python",
   "name": "python3"
  },
  "language_info": {
   "codemirror_mode": {
    "name": "ipython",
    "version": 3
   },
   "file_extension": ".py",
   "mimetype": "text/x-python",
   "name": "python",
   "nbconvert_exporter": "python",
   "pygments_lexer": "ipython3",
   "version": "3.10.6"
  }
 },
 "nbformat": 4,
 "nbformat_minor": 5
}
