{
 "cells": [
  {
   "cell_type": "markdown",
   "id": "bd63c732-81a0-4798-9e67-2060992eb7d3",
   "metadata": {},
   "source": [
    "# Antwoorden van hoofdstuk 1: Why Should I Learn To Write Programs?"
   ]
  },
  {
   "cell_type": "markdown",
   "id": "3abc0cd3-934a-413a-9bab-560b9ca8e332",
   "metadata": {},
   "source": [
    "## Exercise 1\n",
    "What is the function of the secondary memory in a computer?\n",
    "<ol style=\"list-style-type: upper-alpha\">\n",
    "    <li>Execute all of the computation and logic of the program</li>\n",
    "    <li>Retrieve web pages over the Internet</li>\n",
    "    <li>Store information for the long term, even beyond a power cycle</li>\n",
    "    <li>Take input from the user</li>\n",
    "</ol>"
   ]
  },
  {
   "cell_type": "markdown",
   "id": "dbbb6e7d-135f-4de8-882a-9cb5bac2fc69",
   "metadata": {},
   "source": [
    "### Antwoord\n",
    "C. Primary memory = RAM geheugen (verliest informatie indien geen spanning meer), Secondary memory = harde schijf / SD card / USBstick / etc (blijft bewaard als je je device uitzet / restart)"
   ]
  },
  {
   "cell_type": "markdown",
   "id": "a8441f98-44b0-4bfd-841d-cbea68acc8ad",
   "metadata": {},
   "source": [
    "# Exercise 2\n",
    "What is a program?"
   ]
  },
  {
   "cell_type": "markdown",
   "id": "942ecd83-e572-4f2e-a91d-0cc7ed2f9d50",
   "metadata": {},
   "source": [
    "### Antwoord\n",
    "Een programma is een stukje software. Dit kan dus iets zijn als Word, Firefox, etc of je eigen Python script."
   ]
  },
  {
   "cell_type": "markdown",
   "id": "dd9409c0-5f0a-49af-8557-161aafd71304",
   "metadata": {},
   "source": [
    "## Exercise 3\n",
    "What is the difference between a compiler and an interpreter?"
   ]
  },
  {
   "cell_type": "markdown",
   "id": "5bb36f08-a35a-4d12-8772-3409131c963b",
   "metadata": {},
   "source": [
    "### Antwoord\n",
    "Een interpreter leest de source code (tekst bestand, zoals een Python bestand) regel per regel en voert die dus ook regel per regel uit.\n",
    "Een compiler leest de volledige source code, converteert die naar machine code en schrijft die als executable bestand op de harde schrijf. In Windows herken je gecompileerde programma's met de extensie .EXE.\n",
    "\n",
    "Voordeel van gecompileerde software is dat slechts 1 maal de source code geconverteerd hoeft te worden naar executable en niet bij iedere keer dat je de software gebruikt.\n",
    "Voordeel van een interpreter is dat je direct je source code kunt draaien, zonder daarvoor allerlei stappen te ondernemen."
   ]
  },
  {
   "cell_type": "markdown",
   "id": "304f23de-78e5-424c-ae1e-fba21041ca3c",
   "metadata": {},
   "source": [
    "## Exercise 4\n",
    "Which of the following contains “machine code”?\n",
    "<ol style=\"list-style: upper-alpha\">\n",
    "    <li>The Python Interpreter</li>\n",
    "    <li>The keyboard</li>\n",
    "    <li>Python source file</li>\n",
    "    <li>A word processing document</li>\n",
    "</ol>"
   ]
  },
  {
   "cell_type": "markdown",
   "id": "7ca2f9ee-0b03-4909-b1f6-3db4f5bc3555",
   "metadata": {},
   "source": [
    "### Antwoord\n",
    "A."
   ]
  },
  {
   "cell_type": "markdown",
   "id": "45884df4-904f-4405-a8e5-e2691a968458",
   "metadata": {},
   "source": [
    "### Exercise 5\n",
    "What is wrong with the following code?"
   ]
  },
  {
   "cell_type": "code",
   "execution_count": 2,
   "id": "674bbd24-9169-48ba-a139-8e47c1519498",
   "metadata": {},
   "outputs": [
    {
     "ename": "SyntaxError",
     "evalue": "invalid syntax (769080263.py, line 1)",
     "output_type": "error",
     "traceback": [
      "\u001b[0;36m  File \u001b[0;32m\"/tmp/ipykernel_12361/769080263.py\"\u001b[0;36m, line \u001b[0;32m1\u001b[0m\n\u001b[0;31m    Primt 'Hello World!'\u001b[0m\n\u001b[0m          ^\u001b[0m\n\u001b[0;31mSyntaxError\u001b[0m\u001b[0;31m:\u001b[0m invalid syntax\n"
     ]
    }
   ],
   "source": [
    "Primt 'Hello World!'"
   ]
  },
  {
   "cell_type": "markdown",
   "id": "db86864a-53de-463f-a4cf-3ab5b9aab000",
   "metadata": {},
   "source": [
    "### Antwoord\n",
    "Ten eerste is `Primt` is geen voorgedefinieerde Python functie. Zelfs als je de functie hernoemt naar `print` houdt je nog een error over:"
   ]
  },
  {
   "cell_type": "code",
   "execution_count": 3,
   "id": "32bdafc7-e19e-42f0-af78-9b754a47d1e5",
   "metadata": {},
   "outputs": [
    {
     "ename": "SyntaxError",
     "evalue": "Missing parentheses in call to 'print'. Did you mean print(...)? (3686385258.py, line 1)",
     "output_type": "error",
     "traceback": [
      "\u001b[0;36m  File \u001b[0;32m\"/tmp/ipykernel_12361/3686385258.py\"\u001b[0;36m, line \u001b[0;32m1\u001b[0m\n\u001b[0;31m    print 'Hello world!'\u001b[0m\n\u001b[0m    ^\u001b[0m\n\u001b[0;31mSyntaxError\u001b[0m\u001b[0;31m:\u001b[0m Missing parentheses in call to 'print'. Did you mean print(...)?\n"
     ]
    }
   ],
   "source": [
    "print 'Hello world!'"
   ]
  },
  {
   "cell_type": "markdown",
   "id": "90b6ac96-b81e-4de7-b0da-e9f8724cf9ab",
   "metadata": {},
   "source": [
    "`print` is namelijk een functie en moet je dus aanroepen met erachter tussen haakjes de waarde die je wilt printen. Zoals in;"
   ]
  },
  {
   "cell_type": "code",
   "execution_count": 4,
   "id": "a6146275-8ea0-48b8-9c85-6f134cd76a1d",
   "metadata": {},
   "outputs": [
    {
     "name": "stdout",
     "output_type": "stream",
     "text": [
      "Hello world!\n"
     ]
    }
   ],
   "source": [
    "print('Hello world!')"
   ]
  },
  {
   "cell_type": "markdown",
   "id": "7aee0b58-b067-4b24-b650-d8777a853d4f",
   "metadata": {},
   "source": [
    "P.S. In de inmiddels verouderde versie 2 van Python was `print` geen functie maar een reserved word en was het commando `print 'Hello world!` wel correct."
   ]
  },
  {
   "cell_type": "markdown",
   "id": "9f8e0633-b651-4cf6-a627-f9aa0cfbf359",
   "metadata": {},
   "source": [
    "## Exercise 6\n",
    "Where in the computer is a variable such as `x` stored after the following Python line finishes?"
   ]
  },
  {
   "cell_type": "code",
   "execution_count": 5,
   "id": "e4a3ecd5-cad5-4119-a224-5d36a4a2b4eb",
   "metadata": {},
   "outputs": [],
   "source": [
    "x = 123"
   ]
  },
  {
   "cell_type": "markdown",
   "id": "baf554cb-39e3-419b-b303-7a4196b68b1c",
   "metadata": {},
   "source": [
    "### Antwoord\n",
    "De variabele `x` wordt bewaard in het RAM geheugen."
   ]
  },
  {
   "cell_type": "markdown",
   "id": "7d00308e-01ba-4f89-9370-01d956dfe96c",
   "metadata": {},
   "source": [
    "## Exercise 7\n",
    "What will the following program print out:\n",
    "```python\n",
    "x = 43\n",
    "x = x + 1\n",
    "print(x)\n",
    "```\n",
    "<ol style=\"list-style: upper-alpha\">\n",
    "    <li>43</li>\n",
    "    <li>44</li>\n",
    "    <li>x + 1</li>\n",
    "    <li>Error because x = x + 1 is not possible mathematically</li>\n",
    "</ol>"
   ]
  },
  {
   "cell_type": "markdown",
   "id": "c84b5677-0545-46af-aef4-b32d93eeeca6",
   "metadata": {},
   "source": [
    "### Antwoord"
   ]
  },
  {
   "cell_type": "code",
   "execution_count": 6,
   "id": "93ca5111-d5b1-4d1d-8982-40f510bd542e",
   "metadata": {},
   "outputs": [
    {
     "name": "stdout",
     "output_type": "stream",
     "text": [
      "44\n"
     ]
    }
   ],
   "source": [
    "x = 43\n",
    "x = x + 1\n",
    "print(x)"
   ]
  },
  {
   "cell_type": "markdown",
   "id": "0835e0f7-1760-4895-87db-9b0fd1a07076",
   "metadata": {},
   "source": [
    "Antwoord B dus."
   ]
  },
  {
   "cell_type": "markdown",
   "id": "eb5953ec-0066-458b-9e85-4db249be965b",
   "metadata": {},
   "source": [
    "## Exercise 8\n",
    "Explain each of the following using an example of a human capability: (1) Central\n",
    "processing unit, (2) Main memory, (3) Secondary memory, (4) Input device and (5) Output device.\n",
    "For example, “What is the human equivalent to a Central Processing Unit”?"
   ]
  },
  {
   "cell_type": "markdown",
   "id": "3746b77a-18db-4560-8e01-7a117df2a6dc",
   "metadata": {},
   "source": [
    "### Antwoord\n",
    "1. De Central Processing Unit (CPU) is de rekenchip van een computer. Zeg maar het elektronische equivalent met je hersenen.\n",
    "2. Main memory (RAM) is de chip in een computer waar tijdelijk informatie (bijvoorbeeld je Python variabelen) wordt bewaard. De menselijke hersenen hebben ook deze functie. Informatie wordt gewist uit het RAM geheugen zodra je je apparaat uit zet. Bij de mens verdwijnen herinneringen bij het overlijden.\n",
    "3. Secondary memory zijn gegevensdragers zoals harde schijven, SDcards, USBsticks, etc. Informatie op deze gegevensdragers blijft bewaard als de stroom eraf wordt gehaald. Als een mens zijn herinnering heeft opgeschreven in een boek, dan blijft dat bewaard ook na het overlijden.\n",
    "4. Input devices zijn apparaten zoals toetsenbord, muis, aanraakscherm waarmee je dus informatie kunt invoeren. Menselijke input devices zijn je sensoren zoals ogen (visuele informatie), tong (smaak), vingertoppen (tast), oren (geluid).\n",
    "5. Output devices zijn apparaten zoals een beeldscherm of een luidspreker. Menselijk equivalent zijn bijvoorbeeld je stembanden."
   ]
  },
  {
   "cell_type": "markdown",
   "id": "86e37ef6-150f-423a-8b78-94aabd04c8a2",
   "metadata": {},
   "source": [
    "## Exercise 9\n",
    "How do you fix a “Syntax Error”?"
   ]
  },
  {
   "cell_type": "markdown",
   "id": "d5c51323-affe-4a60-be84-2e8f75e53be3",
   "metadata": {},
   "source": [
    "### Antwoord\n",
    "Een syntax error is foutje in je source code. Verbeter je source code zodat deze voldoet aan de Python syntax en run daarna nogmaals je script."
   ]
  }
 ],
 "metadata": {
  "kernelspec": {
   "display_name": "Python 3 (ipykernel)",
   "language": "python",
   "name": "python3"
  },
  "language_info": {
   "codemirror_mode": {
    "name": "ipython",
    "version": 3
   },
   "file_extension": ".py",
   "mimetype": "text/x-python",
   "name": "python",
   "nbconvert_exporter": "python",
   "pygments_lexer": "ipython3",
   "version": "3.10.6"
  }
 },
 "nbformat": 4,
 "nbformat_minor": 5
}
