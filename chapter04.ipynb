{
 "cells": [
  {
   "cell_type": "markdown",
   "id": "dff68ef9-ba20-4b71-b68f-3b9289091366",
   "metadata": {},
   "source": [
    "# Antwoord van hoofdstuk 4: Functions"
   ]
  },
  {
   "cell_type": "markdown",
   "id": "062a24eb-2b08-4dbd-8955-e79a468be8bd",
   "metadata": {},
   "source": [
    "## Exercise 4\n",
    "What is the purpose of the `del` keyword in Python?\n",
    "\n",
    "<ol style=\"list-style-type: lower-alpha\">\n",
    "    <li>It is slang that means \"the following code is really cool\"</li>\n",
    "    <li>It indicates the start of a function</li>\n",
    "    <li>It indicates that the following indented section of code is to be stored for later</li>\n",
    "    <li>b and c are both `True`</li>\n",
    "    <li>None of the above</li>\n",
    "</ol>\n"
   ]
  },
  {
   "cell_type": "markdown",
   "id": "3485f533-b1e9-4b96-b638-30e02d478d28",
   "metadata": {},
   "source": [
    "### Antwoord"
   ]
  },
  {
   "cell_type": "markdown",
   "id": "1be1fae1-7b59-4af8-997c-b97e62a675af",
   "metadata": {},
   "source": [
    "e. `del` wordt gebruikt om variabelen te wissen uit het RAM geheugen."
   ]
  },
  {
   "cell_type": "markdown",
   "id": "2547be2a-b6dd-43be-9ca3-dfd7f52cfafa",
   "metadata": {},
   "source": [
    "## Exercise 5\n",
    "What will the following Python program print out?\n",
    "\n",
    "```python\n",
    "def fred():\n",
    "    print(\"Zap\")\n",
    "    \n",
    "def jane():\n",
    "    print(\"ABC\")\n",
    "    \n",
    "jane()\n",
    "fred()\n",
    "jane()\n",
    "```\n",
    "\n",
    "<ol style=\"list-style-type: lower-alpha\">\n",
    "    <li>Zap<br>ABC<br>jane<br>fred<br>jane</li>\n",
    "    <li>Zap<br>ABC<br>Zap</li>\n",
    "    <li>ABC<br>Zap<br>jane</li>\n",
    "    <li>ABC<br>Zap<br>ABC</li>\n",
    "    <li>Zap<br>Zap<br>Zap</li>\n",
    "</ol>        "
   ]
  },
  {
   "cell_type": "markdown",
   "id": "cd2cb528-a350-4c3f-b980-d72b30f6b78e",
   "metadata": {},
   "source": [
    "### Antwoord"
   ]
  },
  {
   "cell_type": "code",
   "execution_count": 1,
   "id": "60c50d23-0128-4c3b-8a71-b36452eff756",
   "metadata": {},
   "outputs": [
    {
     "name": "stdout",
     "output_type": "stream",
     "text": [
      "ABC\n",
      "Zap\n",
      "ABC\n"
     ]
    }
   ],
   "source": [
    "def fred():\n",
    "    print(\"Zap\")\n",
    "    \n",
    "def jane():\n",
    "    print(\"ABC\")\n",
    "    \n",
    "jane()\n",
    "fred()\n",
    "jane()"
   ]
  },
  {
   "cell_type": "markdown",
   "id": "2d5a3baf-0f6e-4753-a602-f00531a2e04d",
   "metadata": {},
   "source": [
    "Oftewel antwoord d."
   ]
  },
  {
   "cell_type": "markdown",
   "id": "a571843a-662c-4b26-bec5-8755dabac030",
   "metadata": {},
   "source": [
    "## Exercise 6\n",
    "Rewrite your pay computation with time-and-a-half for overtime and create a function called `computepay` which takes two parameters (`hours` and `rate`)."
   ]
  },
  {
   "cell_type": "markdown",
   "id": "88417174-965a-41d5-931b-a83dcda3ca6b",
   "metadata": {},
   "source": [
    "### Antwoord"
   ]
  },
  {
   "cell_type": "code",
   "execution_count": 3,
   "id": "cfa74d90-cf7c-460a-ab7f-da47bff32ba5",
   "metadata": {},
   "outputs": [
    {
     "name": "stdin",
     "output_type": "stream",
     "text": [
      "Enter Hours:  45\n",
      "Enter Rate:  10\n"
     ]
    },
    {
     "name": "stdout",
     "output_type": "stream",
     "text": [
      "Pay: 475.00\n"
     ]
    }
   ],
   "source": [
    "def computepay(hours, rate):\n",
    "    if hours <= 40:\n",
    "        pay = hours * rate\n",
    "    else:\n",
    "        pay = 40 * rate + (hours - 40) * rate * 1.5\n",
    "    return pay\n",
    "\n",
    "try:\n",
    "    hours = float(input('Enter Hours: '))\n",
    "    rate = float(input('Enter Rate: '))\n",
    "    pay = computepay(hours, rate)\n",
    "    print(f'Pay: {pay:.2f}')\n",
    "except ValueError:\n",
    "    print('Error: please enter numeric input')"
   ]
  },
  {
   "cell_type": "markdown",
   "id": "2e1690fe-76c0-412c-b763-8887d33c542a",
   "metadata": {},
   "source": [
    "## Exercise 7\n",
    "Rewrite the grade program from the previous chapter using a function called `computegrade` that takes a `score` as its parameter and returns a grade as a string."
   ]
  },
  {
   "cell_type": "markdown",
   "id": "9566d022-1100-4f2a-9dff-4980c52217b6",
   "metadata": {},
   "source": [
    "### Antwoord"
   ]
  },
  {
   "cell_type": "code",
   "execution_count": 4,
   "id": "e04f9e34-8f60-4ae3-b314-86f1808b731d",
   "metadata": {},
   "outputs": [
    {
     "name": "stdin",
     "output_type": "stream",
     "text": [
      "Enter a score:  0.75\n"
     ]
    },
    {
     "name": "stdout",
     "output_type": "stream",
     "text": [
      "C\n"
     ]
    }
   ],
   "source": [
    "def computegrade(score):\n",
    "    try:\n",
    "        score = float(score)\n",
    "    except ValueError:\n",
    "        return 'Bad score'\n",
    "    if score < 0.0 or score > 1.0:\n",
    "        return 'Bad score'\n",
    "    elif score >= 0.9:\n",
    "        return 'A'\n",
    "    elif score >= 0.8:\n",
    "        return 'B'\n",
    "    elif score >= 0.7:\n",
    "        return 'C'\n",
    "    elif score >= 0.6:\n",
    "        return 'D'\n",
    "    else:\n",
    "        return 'F'\n",
    "\n",
    "score = input('Enter a score: ')\n",
    "print(computegrade(score))\n"
   ]
  }
 ],
 "metadata": {
  "kernelspec": {
   "display_name": "Python 3 (ipykernel)",
   "language": "python",
   "name": "python3"
  },
  "language_info": {
   "codemirror_mode": {
    "name": "ipython",
    "version": 3
   },
   "file_extension": ".py",
   "mimetype": "text/x-python",
   "name": "python",
   "nbconvert_exporter": "python",
   "pygments_lexer": "ipython3",
   "version": "3.10.6"
  }
 },
 "nbformat": 4,
 "nbformat_minor": 5
}
