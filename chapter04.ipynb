{
 "cells": [
  {
   "cell_type": "markdown",
   "id": "dff68ef9-ba20-4b71-b68f-3b9289091366",
   "metadata": {},
   "source": [
    "# Antwoord van hoofdstuk 4: Functions"
   ]
  },
  {
   "cell_type": "markdown",
   "id": "7c6a83cf",
   "metadata": {},
   "source": [
    "## Exercise 2"
   ]
  },
  {
   "attachments": {},
   "cell_type": "markdown",
   "id": "72c1eb08",
   "metadata": {},
   "source": [
    "This exercises use this program:"
   ]
  },
  {
   "cell_type": "code",
   "execution_count": 1,
   "id": "b13039f9",
   "metadata": {},
   "outputs": [
    {
     "name": "stdout",
     "output_type": "stream",
     "text": [
      "0.7699493271733642\n",
      "0.8553716528326321\n",
      "0.4906281695881832\n",
      "0.21841822274543987\n",
      "0.6329472297707157\n",
      "0.0005205190635048096\n",
      "0.02254517287873259\n",
      "0.5201998709856382\n",
      "0.8723049291067625\n",
      "0.1071509905130974\n"
     ]
    }
   ],
   "source": [
    "import random\n",
    "\n",
    "\n",
    "for i in range(10):\n",
    "    x = random.random()\n",
    "    print(x)"
   ]
  },
  {
   "attachments": {},
   "cell_type": "markdown",
   "id": "0d886d76",
   "metadata": {},
   "source": [
    "Run the program on your system and see what numbers you get. Run the program more that once and see what numbers you get.\n",
    "### Antwoord"
   ]
  },
  {
   "cell_type": "code",
   "execution_count": 2,
   "id": "2f05fbba",
   "metadata": {},
   "outputs": [
    {
     "name": "stdout",
     "output_type": "stream",
     "text": [
      "0.2008681462587939\n",
      "0.7148006303338026\n",
      "0.2864228755226238\n",
      "0.9630217923761353\n",
      "0.5841549953457241\n",
      "0.896782244802671\n",
      "0.05213074835692999\n",
      "0.2398612820349446\n",
      "0.45469271832126157\n",
      "0.15242276214560058\n"
     ]
    }
   ],
   "source": [
    "import random\n",
    "\n",
    "\n",
    "for i in range(10):\n",
    "    x = random.random()\n",
    "    print(x)"
   ]
  },
  {
   "cell_type": "code",
   "execution_count": 3,
   "id": "23b9b518",
   "metadata": {},
   "outputs": [
    {
     "name": "stdout",
     "output_type": "stream",
     "text": [
      "0.9695677544805196\n",
      "0.23028128982987817\n",
      "0.767922363195873\n",
      "0.581124410474768\n",
      "0.9877302857928295\n",
      "0.08879570598814768\n",
      "0.17014215331260663\n",
      "0.16349455532487467\n",
      "0.47312020987221715\n",
      "0.18532340214348608\n"
     ]
    }
   ],
   "source": [
    "import random\n",
    "\n",
    "\n",
    "for i in range(10):\n",
    "    x = random.random()\n",
    "    print(x)"
   ]
  },
  {
   "attachments": {},
   "cell_type": "markdown",
   "id": "7a98ebbb",
   "metadata": {},
   "source": [
    "## Exercise 2\n",
    "Move the last line of the program below to the top, so the function call appears before the definitions. Run the program and see what error message you get.\n",
    "```python\n",
    "def print_lyrics():\n",
    "    print(\"I'm a lumberjack, and I'm okay.\")\n",
    "    print('I sleep all night and I work all day.')\n",
    "\n",
    "\n",
    "def repeat_lyrics():\n",
    "    print_lyrics()\n",
    "    print_lyrics()\n",
    "\n",
    "\n",
    "repeat_lyrics()\n",
    "```\n",
    "### Antwoord"
   ]
  },
  {
   "cell_type": "code",
   "execution_count": 5,
   "id": "09bea715",
   "metadata": {},
   "outputs": [
    {
     "ename": "NameError",
     "evalue": "name 'repeat_lyrics' is not defined",
     "output_type": "error",
     "traceback": [
      "\u001b[0;31m---------------------------------------------------------------------------\u001b[0m",
      "\u001b[0;31mNameError\u001b[0m                                 Traceback (most recent call last)",
      "\u001b[0;32m/tmp/ipykernel_13105/333953168.py\u001b[0m in \u001b[0;36m<module>\u001b[0;34m\u001b[0m\n\u001b[0;32m----> 1\u001b[0;31m \u001b[0mrepeat_lyrics\u001b[0m\u001b[0;34m(\u001b[0m\u001b[0;34m)\u001b[0m\u001b[0;34m\u001b[0m\u001b[0;34m\u001b[0m\u001b[0m\n\u001b[0m\u001b[1;32m      2\u001b[0m \u001b[0;34m\u001b[0m\u001b[0m\n\u001b[1;32m      3\u001b[0m \u001b[0;34m\u001b[0m\u001b[0m\n\u001b[1;32m      4\u001b[0m \u001b[0;32mdef\u001b[0m \u001b[0mprint_lyrics\u001b[0m\u001b[0;34m(\u001b[0m\u001b[0;34m)\u001b[0m\u001b[0;34m:\u001b[0m\u001b[0;34m\u001b[0m\u001b[0;34m\u001b[0m\u001b[0m\n\u001b[1;32m      5\u001b[0m     \u001b[0mprint\u001b[0m\u001b[0;34m(\u001b[0m\u001b[0;34m\"I'm a lumberjack, and I'm okay.\"\u001b[0m\u001b[0;34m)\u001b[0m\u001b[0;34m\u001b[0m\u001b[0;34m\u001b[0m\u001b[0m\n",
      "\u001b[0;31mNameError\u001b[0m: name 'repeat_lyrics' is not defined"
     ]
    }
   ],
   "source": [
    "repeat_lyrics()\n",
    "\n",
    "\n",
    "def print_lyrics():\n",
    "    print(\"I'm a lumberjack, and I'm okay.\")\n",
    "    print('I sleep all night and I work all day.')\n",
    "\n",
    "\n",
    "def repeat_lyrics():\n",
    "    print_lyrics()\n",
    "    print_lyrics()"
   ]
  },
  {
   "attachments": {},
   "cell_type": "markdown",
   "id": "fb666d19",
   "metadata": {},
   "source": [
    "## Exercise 3\n",
    "Move the function call back to the bottom and move the definition of `print_lyrics` after the definition of `repeat_lyrics`. What happens when you run the program?\n",
    "### Antwoord"
   ]
  },
  {
   "cell_type": "code",
   "execution_count": 6,
   "id": "aa0e0c77",
   "metadata": {},
   "outputs": [
    {
     "name": "stdout",
     "output_type": "stream",
     "text": [
      "I'm a lumberjack, and I'm okay.\n",
      "I sleep all night and I work all day.\n",
      "I'm a lumberjack, and I'm okay.\n",
      "I sleep all night and I work all day.\n"
     ]
    }
   ],
   "source": [
    "def repeat_lyrics():\n",
    "    print_lyrics()\n",
    "    print_lyrics()\n",
    "\n",
    "\n",
    "def print_lyrics():\n",
    "    print(\"I'm a lumberjack, and I'm okay.\")\n",
    "    print('I sleep all night and I work all day.')\n",
    "\n",
    "\n",
    "repeat_lyrics()"
   ]
  },
  {
   "cell_type": "markdown",
   "id": "062a24eb-2b08-4dbd-8955-e79a468be8bd",
   "metadata": {},
   "source": [
    "## Exercise 4\n",
    "What is the purpose of the `del` keyword in Python?\n",
    "\n",
    "<ol style=\"list-style-type: lower-alpha\">\n",
    "    <li>It is slang that means \"the following code is really cool\"</li>\n",
    "    <li>It indicates the start of a function</li>\n",
    "    <li>It indicates that the following indented section of code is to be stored for later</li>\n",
    "    <li>b and c are both `True`</li>\n",
    "    <li>None of the above</li>\n",
    "</ol>\n"
   ]
  },
  {
   "cell_type": "markdown",
   "id": "3485f533-b1e9-4b96-b638-30e02d478d28",
   "metadata": {},
   "source": [
    "### Antwoord"
   ]
  },
  {
   "cell_type": "markdown",
   "id": "1be1fae1-7b59-4af8-997c-b97e62a675af",
   "metadata": {},
   "source": [
    "e. `del` wordt gebruikt om variabelen te wissen uit het RAM geheugen."
   ]
  },
  {
   "cell_type": "markdown",
   "id": "2547be2a-b6dd-43be-9ca3-dfd7f52cfafa",
   "metadata": {},
   "source": [
    "## Exercise 5\n",
    "What will the following Python program print out?\n",
    "\n",
    "```python\n",
    "def fred():\n",
    "    print(\"Zap\")\n",
    "    \n",
    "def jane():\n",
    "    print(\"ABC\")\n",
    "    \n",
    "jane()\n",
    "fred()\n",
    "jane()\n",
    "```\n",
    "\n",
    "<ol style=\"list-style-type: lower-alpha\">\n",
    "    <li>Zap<br>ABC<br>jane<br>fred<br>jane</li>\n",
    "    <li>Zap<br>ABC<br>Zap</li>\n",
    "    <li>ABC<br>Zap<br>jane</li>\n",
    "    <li>ABC<br>Zap<br>ABC</li>\n",
    "    <li>Zap<br>Zap<br>Zap</li>\n",
    "</ol>        "
   ]
  },
  {
   "cell_type": "markdown",
   "id": "cd2cb528-a350-4c3f-b980-d72b30f6b78e",
   "metadata": {},
   "source": [
    "### Antwoord"
   ]
  },
  {
   "cell_type": "code",
   "execution_count": 1,
   "id": "60c50d23-0128-4c3b-8a71-b36452eff756",
   "metadata": {},
   "outputs": [
    {
     "name": "stdout",
     "output_type": "stream",
     "text": [
      "ABC\n",
      "Zap\n",
      "ABC\n"
     ]
    }
   ],
   "source": [
    "def fred():\n",
    "    print(\"Zap\")\n",
    "    \n",
    "def jane():\n",
    "    print(\"ABC\")\n",
    "    \n",
    "jane()\n",
    "fred()\n",
    "jane()"
   ]
  },
  {
   "cell_type": "markdown",
   "id": "2d5a3baf-0f6e-4753-a602-f00531a2e04d",
   "metadata": {},
   "source": [
    "Oftewel antwoord d."
   ]
  },
  {
   "cell_type": "markdown",
   "id": "a571843a-662c-4b26-bec5-8755dabac030",
   "metadata": {},
   "source": [
    "## Exercise 6\n",
    "Rewrite your pay computation with time-and-a-half for overtime and create a function called `computepay` which takes two parameters (`hours` and `rate`)."
   ]
  },
  {
   "cell_type": "markdown",
   "id": "88417174-965a-41d5-931b-a83dcda3ca6b",
   "metadata": {},
   "source": [
    "### Antwoord"
   ]
  },
  {
   "cell_type": "code",
   "execution_count": 3,
   "id": "cfa74d90-cf7c-460a-ab7f-da47bff32ba5",
   "metadata": {},
   "outputs": [
    {
     "name": "stdout",
     "output_type": "stream",
     "text": [
      "Enter Hours:  45\n",
      "Enter Rate:  10\n"
     ]
    },
    {
     "name": "stdout",
     "output_type": "stream",
     "text": [
      "Pay: 475.00\n"
     ]
    }
   ],
   "source": [
    "def computepay(hours, rate):\n",
    "    if hours <= 40:\n",
    "        pay = hours * rate\n",
    "    else:\n",
    "        pay = 40 * rate + (hours - 40) * rate * 1.5\n",
    "    return pay\n",
    "\n",
    "try:\n",
    "    hours = float(input('Enter Hours: '))\n",
    "    rate = float(input('Enter Rate: '))\n",
    "    pay = computepay(hours, rate)\n",
    "    print(f'Pay: {pay:.2f}')\n",
    "except ValueError:\n",
    "    print('Error: please enter numeric input')"
   ]
  },
  {
   "cell_type": "markdown",
   "id": "2e1690fe-76c0-412c-b763-8887d33c542a",
   "metadata": {},
   "source": [
    "## Exercise 7\n",
    "Rewrite the grade program from the previous chapter using a function called `computegrade` that takes a `score` as its parameter and returns a grade as a string."
   ]
  },
  {
   "cell_type": "markdown",
   "id": "9566d022-1100-4f2a-9dff-4980c52217b6",
   "metadata": {},
   "source": [
    "### Antwoord"
   ]
  },
  {
   "cell_type": "code",
   "execution_count": 4,
   "id": "e04f9e34-8f60-4ae3-b314-86f1808b731d",
   "metadata": {},
   "outputs": [
    {
     "name": "stdout",
     "output_type": "stream",
     "text": [
      "Enter a score:  0.75\n"
     ]
    },
    {
     "name": "stdout",
     "output_type": "stream",
     "text": [
      "C\n"
     ]
    }
   ],
   "source": [
    "def computegrade(score):\n",
    "    try:\n",
    "        score = float(score)\n",
    "    except ValueError:\n",
    "        return 'Bad score'\n",
    "    if score < 0.0 or score > 1.0:\n",
    "        return 'Bad score'\n",
    "    elif score >= 0.9:\n",
    "        return 'A'\n",
    "    elif score >= 0.8:\n",
    "        return 'B'\n",
    "    elif score >= 0.7:\n",
    "        return 'C'\n",
    "    elif score >= 0.6:\n",
    "        return 'D'\n",
    "    else:\n",
    "        return 'F'\n",
    "\n",
    "score = input('Enter a score: ')\n",
    "print(computegrade(score))\n"
   ]
  }
 ],
 "metadata": {
  "kernelspec": {
   "display_name": "Python 3",
   "language": "python",
   "name": "python3"
  },
  "language_info": {
   "codemirror_mode": {
    "name": "ipython",
    "version": 3
   },
   "file_extension": ".py",
   "mimetype": "text/x-python",
   "name": "python",
   "nbconvert_exporter": "python",
   "pygments_lexer": "ipython3",
   "version": "3.10.6"
  },
  "vscode": {
   "interpreter": {
    "hash": "31f2aee4e71d21fbe5cf8b01ff0e069b9275f58929596ceb00d14d90e3e16cd6"
   }
  }
 },
 "nbformat": 4,
 "nbformat_minor": 5
}
