{
 "cells": [
  {
   "cell_type": "markdown",
   "id": "8196949a-de5f-4497-a0dd-6bc61a779586",
   "metadata": {},
   "source": [
    "# Antwoorden van hoofdstuk 12: Networked programs"
   ]
  },
  {
   "cell_type": "markdown",
   "id": "73a004a1-b23c-4025-8088-d77a5a56a4a0",
   "metadata": {},
   "source": [
    "## Exercise 1\n",
    "Change the socket program socket1.py to prompt the user for the\n",
    "URL so it can read any web page. You can use `split('/')` to break the URL into\n",
    "its component parts so you can extract the host name for the socket connect\n",
    "call. Add error checking using try and except to handle the condition where\n",
    "the user enters an improperly formatted or non-existent URL"
   ]
  },
  {
   "cell_type": "markdown",
   "id": "5bcd5070-341f-4a8d-95b3-7a8490b0a829",
   "metadata": {},
   "source": [
    "### Antwoord"
   ]
  },
  {
   "cell_type": "code",
   "execution_count": 1,
   "id": "e41b43a2-069d-444f-89d7-0e25de70a853",
   "metadata": {},
   "outputs": [
    {
     "name": "stdout",
     "output_type": "stream",
     "text": [
      "Enter url  http://data.pr4e.org/romeo.txt\n"
     ]
    },
    {
     "name": "stdout",
     "output_type": "stream",
     "text": [
      "HTTP/1.1 200 OK\n",
      "Date: Tue, 22 Nov 2022 11:59:20 GMT\n",
      "Server: Apache/2.4.18 (Ubuntu)\n",
      "Last-Modified: Sat, 13 May 2017 11:22:22 GMT\n",
      "ETag: \"a7-54f6609245537\"\n",
      "Accept-Ranges: bytes\n",
      "Content-Length: 167\n",
      "Cache-Control: max-age=0, no-cache, no-store, must-revalidate\n",
      "Pragma: no-cache\n",
      "Expires: Wed, 11 Jan 1984 05:00:00 GMT\n",
      "Connection: close\n",
      "Content-Type: text/plain\n",
      "\n",
      "But soft what light through yonder window breaks\n",
      "It is the east and Juliet is the sun\n",
      "Arise fair sun and kill the envious moon\n",
      "Who is already sick and pale with grief\n"
     ]
    }
   ],
   "source": [
    "import socket\n",
    "\n",
    "# url = 'http://data.pr4e.org/romeo.txt'\n",
    "url = input(\"Enter url \")\n",
    "parts = url.split(\"/\")\n",
    "hostname = parts[2]\n",
    "mysock = socket.socket(socket.AF_INET, socket.SOCK_STREAM)\n",
    "mysock.connect((hostname, 80))\n",
    "cmd = ('GET %s HTTP/1.0\\r\\n\\r\\n' % url).encode()\n",
    "mysock.send(cmd)\n",
    "\n",
    "while True:\n",
    "    data = mysock.recv(512)\n",
    "    if len(data) < 1:\n",
    "        break\n",
    "    print(data.decode(), end='')\n",
    "\n",
    "mysock.close()"
   ]
  },
  {
   "cell_type": "markdown",
   "id": "d03fe786-fdc0-452b-9e99-c17e7ef487a5",
   "metadata": {},
   "source": [
    "## Exercise 2\n",
    "Change your socket program so that it counts the number of\n",
    "characters it has received and stops displaying any text after it has shown\n",
    "3000 characters. The program should retrieve the entire document and count\n",
    "the total number of characters and display the count of the number of\n",
    "characters at the end of the document."
   ]
  },
  {
   "cell_type": "markdown",
   "id": "0fff7981-4dad-4a94-824b-67fdb10e3055",
   "metadata": {},
   "source": [
    "### Antwoord"
   ]
  },
  {
   "cell_type": "code",
   "execution_count": 2,
   "id": "8e8f04e2-0eab-4ff3-bab3-03294f985609",
   "metadata": {},
   "outputs": [
    {
     "name": "stdout",
     "output_type": "stream",
     "text": [
      "Enter url  http://data.pr4e.org/romeo.txt\n"
     ]
    },
    {
     "name": "stdout",
     "output_type": "stream",
     "text": [
      "Total number of characters: 536\n",
      "First 3000 bytes: HTTP/1.1 200 OK\n",
      "Date: Tue, 22 Nov 2022 12:00:42 GMT\n",
      "Server: Apache/2.4.18 (Ubuntu)\n",
      "Last-Modified: Sat, 13 May 2017 11:22:22 GMT\n",
      "ETag: \"a7-54f6609245537\"\n",
      "Accept-Ranges: bytes\n",
      "Content-Length: 167\n",
      "Cache-Control: max-age=0, no-cache, no-store, must-revalidate\n",
      "Pragma: no-cache\n",
      "Expires: Wed, 11 Jan 1984 05:00:00 GMT\n",
      "Connection: close\n",
      "Content-Type: text/plain\n",
      "\n",
      "But soft what light through yonder window breaks\n",
      "It is the east and Juliet is the sun\n",
      "Arise fair sun and kill the envious moon\n",
      "Who is already sick and pale with grief\n",
      "\n"
     ]
    }
   ],
   "source": [
    "import socket\n",
    "\n",
    "# url = 'http://data.pr4e.org/romeo.txt'\n",
    "url = input(\"Enter url \")\n",
    "parts = url.split(\"/\")\n",
    "hostname = parts[2]\n",
    "mysock = socket.socket(socket.AF_INET, socket.SOCK_STREAM)\n",
    "mysock.connect((hostname, 80))\n",
    "cmd = ('GET %s HTTP/1.0\\r\\n\\r\\n' % url).encode()\n",
    "mysock.send(cmd)\n",
    "\n",
    "accumulated = \"\"\n",
    "while True:\n",
    "    data = mysock.recv(512)\n",
    "    if len(data) < 1:\n",
    "        break\n",
    "    accumulated += data.decode()\n",
    "\n",
    "print(\"Total number of characters:\", len(accumulated))\n",
    "print(\"First 3000 bytes:\", accumulated[:3000])\n",
    "mysock.close()"
   ]
  },
  {
   "cell_type": "markdown",
   "id": "eec27d51-6aeb-445e-85ed-f55d6b1dcc11",
   "metadata": {},
   "source": [
    "## Exercise 3\n",
    "Use `urllib` to replicate the previous exercise of (1) retrieving the\n",
    "document from a URL, (2) displaying up to 3000 characters, and (3) counting\n",
    "the overall number of characters in the document. Don’t worry about the\n",
    "headers for this exercise, simply show the first 3000 characters of the\n",
    "document contents."
   ]
  },
  {
   "cell_type": "markdown",
   "id": "f055b45f-d5e2-4fa9-9f8b-b0db1bb1f04c",
   "metadata": {},
   "source": [
    "### Antwoord"
   ]
  },
  {
   "cell_type": "code",
   "execution_count": 3,
   "id": "1c540879-c6a7-419d-bc54-e9eb86948a62",
   "metadata": {},
   "outputs": [
    {
     "name": "stdout",
     "output_type": "stream",
     "text": [
      "Enter url  http://data.pr4e.org/romeo.txt\n"
     ]
    },
    {
     "name": "stdout",
     "output_type": "stream",
     "text": [
      "Total number of characters: 167\n",
      "First 3000 bytes: b'But soft what light through yonder window breaks\\nIt is the east and Juliet is the sun\\nArise fair sun and kill the envious moon\\nWho is already sick and pale with grief\\n'\n"
     ]
    }
   ],
   "source": [
    "import urllib\n",
    "\n",
    "# url = 'http://data.pr4e.org/romeo.txt'\n",
    "url = input(\"Enter url \")\n",
    "\n",
    "webpage = urllib.request.urlopen(url).read()\n",
    "\n",
    "print(\"Total number of characters:\", len(webpage))\n",
    "print(\"First 3000 bytes:\", webpage[:3000])\n",
    "mysock.close()"
   ]
  },
  {
   "cell_type": "markdown",
   "id": "7d7355cb-c2ca-4713-aa69-9a349dfb8e33",
   "metadata": {},
   "source": [
    "## Exercise 4\n",
    "Change the urllinks.py program to extract and count paragraph (p)\n",
    "tags from the retrieved HTML document and display the count of the\n",
    "paragraphs as the output of your program. Do not display the paragraph text,\n",
    "only count them. Test your program on several small web pages as well as\n",
    "some larger web pages."
   ]
  },
  {
   "cell_type": "markdown",
   "id": "08ea8af6-283c-4304-b267-4c5a99be04cf",
   "metadata": {},
   "source": [
    "### Antwoord"
   ]
  },
  {
   "cell_type": "code",
   "execution_count": 5,
   "id": "50cf569f-349c-4d4e-a166-fe1a206e1f76",
   "metadata": {},
   "outputs": [
    {
     "name": "stdout",
     "output_type": "stream",
     "text": [
      "Enter -  https://docs.python.org\n"
     ]
    },
    {
     "name": "stdout",
     "output_type": "stream",
     "text": [
      "27 paragraphs found\n"
     ]
    }
   ],
   "source": [
    "# To run this, download the BeautifulSoup zip file\n",
    "# http://www.py4e.com/code3/bs4.zip\n",
    "# and unzip it in the same directory as this file\n",
    "\n",
    "import urllib.request, urllib.parse, urllib.error\n",
    "from bs4 import BeautifulSoup\n",
    "import ssl\n",
    "\n",
    "# Ignore SSL certificate errors\n",
    "ctx = ssl.create_default_context()\n",
    "ctx.check_hostname = False\n",
    "ctx.verify_mode = ssl.CERT_NONE\n",
    "\n",
    "url = input('Enter - ')\n",
    "html = urllib.request.urlopen(url, context=ctx).read()\n",
    "soup = BeautifulSoup(html, 'html.parser')\n",
    "paragraphs = soup(\"p\")\n",
    "count = len(paragraphs)\n",
    "print(count, \"paragraphs found\")"
   ]
  },
  {
   "cell_type": "markdown",
   "id": "03254e3c-ba97-4978-a136-35b611da30d9",
   "metadata": {},
   "source": [
    "## Exercise 5\n",
    "(Advanced) Change the socket program so that it only shows data\n",
    "after the headers and a blank line have been received. Remember that recv\n",
    "receives characters (newlines and all), not lines."
   ]
  },
  {
   "cell_type": "markdown",
   "id": "535a25fa-11a6-4c0d-9b98-b9b4deec1eea",
   "metadata": {},
   "source": [
    "### Antwoord"
   ]
  },
  {
   "cell_type": "code",
   "execution_count": 6,
   "id": "d0640868-10de-4784-b8f8-410a94ea6f2a",
   "metadata": {},
   "outputs": [
    {
     "name": "stdout",
     "output_type": "stream",
     "text": [
      "Enter url  http://data.pr4e.org/romeo.txt\n"
     ]
    },
    {
     "name": "stdout",
     "output_type": "stream",
     "text": [
      "Total number of characters: 169\n",
      "First 3000 bytes: \n",
      "But soft what light through yonder window breaks\n",
      "It is the east and Juliet is the sun\n",
      "Arise fair sun and kill the envious moon\n",
      "Who is already sick and pale with grief\n",
      "\n"
     ]
    }
   ],
   "source": [
    "import socket\n",
    "\n",
    "# url = 'http://data.pr4e.org/romeo.txt'\n",
    "url = input(\"Enter url \")\n",
    "parts = url.split(\"/\")\n",
    "hostname = parts[2]\n",
    "mysock = socket.socket(socket.AF_INET, socket.SOCK_STREAM)\n",
    "mysock.connect((hostname, 80))\n",
    "cmd = ('GET %s HTTP/1.0\\r\\n\\r\\n' % url).encode()\n",
    "mysock.send(cmd)\n",
    "\n",
    "accumulated = \"\"\n",
    "while True:\n",
    "    data = mysock.recv(512)\n",
    "    if len(data) < 1:\n",
    "        break\n",
    "    accumulated += data.decode()\n",
    "\n",
    "# first try to find the sequence CarriageReturn + Linefeed + CarriageReturn + Linefeed\n",
    "start = accumulated.find(\"\\r\\n\\r\\n\")\n",
    "if start == -1: # if not found try to find the sequence LineFeed + LineFeed\n",
    "    start = accumulated.find(\"\\n\\n\")\n",
    "content = accumulated[start+2:]\n",
    "\n",
    "print(\"Total number of characters:\", len(content))\n",
    "print(\"First 3000 bytes:\", content[:3000])\n",
    "mysock.close()"
   ]
  }
 ],
 "metadata": {
  "kernelspec": {
   "display_name": "Python 3",
   "language": "python",
   "name": "python3"
  },
  "language_info": {
   "codemirror_mode": {
    "name": "ipython",
    "version": 3
   },
   "file_extension": ".py",
   "mimetype": "text/x-python",
   "name": "python",
   "nbconvert_exporter": "python",
   "pygments_lexer": "ipython3",
   "version": "3.10.6"
  },
  "vscode": {
   "interpreter": {
    "hash": "31f2aee4e71d21fbe5cf8b01ff0e069b9275f58929596ceb00d14d90e3e16cd6"
   }
  }
 },
 "nbformat": 4,
 "nbformat_minor": 5
}
