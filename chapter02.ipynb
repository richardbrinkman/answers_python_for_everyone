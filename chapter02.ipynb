{
 "cells": [
  {
   "cell_type": "markdown",
   "id": "33a78cd9-03b1-401b-b0f8-fe638abf17d1",
   "metadata": {},
   "source": [
    "# Antwoorden van hoofdstuk 2: Variables, expressions and statements"
   ]
  },
  {
   "cell_type": "markdown",
   "id": "09d6aaff-7e40-425d-86b2-bff95773b969",
   "metadata": {},
   "source": [
    "## Exercise 1\n",
    "Type the following statements in the Python interpreter to see what they do:\n",
    "```\n",
    "5\n",
    "x = 5\n",
    "x + 1\n",
    "```"
   ]
  },
  {
   "cell_type": "markdown",
   "id": "eb2a77cf-ad01-46ae-8f29-608774973f70",
   "metadata": {},
   "source": [
    "### Antwoord"
   ]
  },
  {
   "cell_type": "code",
   "execution_count": 1,
   "id": "5d922f35-ee11-4961-a72f-aa7a7119c630",
   "metadata": {},
   "outputs": [
    {
     "data": {
      "text/plain": [
       "5"
      ]
     },
     "execution_count": 1,
     "metadata": {},
     "output_type": "execute_result"
    }
   ],
   "source": [
    "5"
   ]
  },
  {
   "cell_type": "code",
   "execution_count": 2,
   "id": "91dcc07a-3efd-4788-9133-2b486818337e",
   "metadata": {},
   "outputs": [],
   "source": [
    "x = 5"
   ]
  },
  {
   "cell_type": "code",
   "execution_count": 3,
   "id": "d15521e1-035a-481f-a5d2-7873e81e5002",
   "metadata": {},
   "outputs": [
    {
     "data": {
      "text/plain": [
       "6"
      ]
     },
     "execution_count": 3,
     "metadata": {},
     "output_type": "execute_result"
    }
   ],
   "source": [
    "x + 1"
   ]
  },
  {
   "cell_type": "markdown",
   "id": "7d54f348-d400-43bd-afa2-bdf842fda70c",
   "metadata": {},
   "source": [
    "## Exercise 2\n",
    "Write a program that uses input to prompt a user for their name and then welcomes them.\n",
    "```\n",
    "Enter your name: Martin\n",
    "Hello Martin\n",
    "```"
   ]
  },
  {
   "cell_type": "markdown",
   "id": "c4bf4ed7-5560-4a49-8e45-e1655c7c4408",
   "metadata": {},
   "source": [
    "### Antwoord"
   ]
  },
  {
   "cell_type": "code",
   "execution_count": 4,
   "id": "e2410cda-74ce-49ea-922d-7a9003a6faa5",
   "metadata": {},
   "outputs": [
    {
     "name": "stdin",
     "output_type": "stream",
     "text": [
      "Enter your name:  Martin\n"
     ]
    },
    {
     "name": "stdout",
     "output_type": "stream",
     "text": [
      "Hello Martin\n"
     ]
    }
   ],
   "source": [
    "# Uitwerking met f-string\n",
    "name = input('Enter your name: ')\n",
    "print(f'Hello {name}')"
   ]
  },
  {
   "cell_type": "code",
   "execution_count": 5,
   "id": "36e1580e-b82f-4ec5-ab6f-c9ef15f9061b",
   "metadata": {},
   "outputs": [
    {
     "name": "stdin",
     "output_type": "stream",
     "text": [
      "Enter your name:  Martin\n"
     ]
    },
    {
     "name": "stdout",
     "output_type": "stream",
     "text": [
      "Hello Martin\n"
     ]
    }
   ],
   "source": [
    "# Uitwerking met string concatenatie\n",
    "name = input('Enter your name: ')\n",
    "print('Hello ' + name)"
   ]
  },
  {
   "cell_type": "code",
   "execution_count": 6,
   "id": "7e6e5a37-7cb4-4e84-ba5d-372a716f272f",
   "metadata": {},
   "outputs": [
    {
     "name": "stdin",
     "output_type": "stream",
     "text": [
      "Enter your name:  Martin\n"
     ]
    },
    {
     "name": "stdout",
     "output_type": "stream",
     "text": [
      "Hello Martin\n"
     ]
    }
   ],
   "source": [
    "# Uitwerking met meerdere print-parameters\n",
    "name = input('Enter your name: ')\n",
    "print('Hello', name) # De print functie voegt zelf de spatie toe"
   ]
  },
  {
   "cell_type": "markdown",
   "id": "1eec84ea-3402-4575-83a9-b93176387fda",
   "metadata": {},
   "source": [
    "## Exercise 3\n",
    "Write a program to prompt the user for hours and rate per hour to compute gross pay.\n",
    "```\n",
    "Enter Hours: 35\n",
    "Enter Rate: 2.75\n",
    "Pay: 96.25\n",
    "```\n",
    "We won't worry about making sure our pay has exactly two digits after the decimal place for now. If you want, you can play with the built-in Python round function to properly round the resulting pay to two decimal places."
   ]
  },
  {
   "cell_type": "markdown",
   "id": "ae3cc15f-0a63-467a-9a8e-be3fa25aadc3",
   "metadata": {},
   "source": [
    "### Antwoord"
   ]
  },
  {
   "cell_type": "code",
   "execution_count": 8,
   "id": "cef440c7-460f-4c73-85ea-1f06e98d2f39",
   "metadata": {},
   "outputs": [
    {
     "name": "stdin",
     "output_type": "stream",
     "text": [
      "Enter Hours:  35\n",
      "Enter Rate:  2.75\n"
     ]
    },
    {
     "name": "stdout",
     "output_type": "stream",
     "text": [
      "Pay: 96.25\n"
     ]
    }
   ],
   "source": [
    "# Uitwerking zonder afronding\n",
    "hours = float(input('Enter Hours: '))\n",
    "rate = float(input('Enter Rate: '))\n",
    "pay = hours * rate\n",
    "print(f'Pay: {pay}')"
   ]
  },
  {
   "cell_type": "code",
   "execution_count": 9,
   "id": "e041a041-fac2-48ea-9633-f9557e318e95",
   "metadata": {},
   "outputs": [
    {
     "name": "stdin",
     "output_type": "stream",
     "text": [
      "Enter Hours:  35.1\n",
      "Enter Rate:  2.75\n"
     ]
    },
    {
     "name": "stdout",
     "output_type": "stream",
     "text": [
      "Pay: 96.53\n"
     ]
    }
   ],
   "source": [
    "# Uitwerking met afronding met de `round` functie\n",
    "hours = float(input('Enter Hours: '))\n",
    "rate = float(input('Enter Rate: '))\n",
    "pay = round(hours * rate, 2)\n",
    "print(f'Pay: {pay}')"
   ]
  },
  {
   "cell_type": "code",
   "execution_count": 11,
   "id": "afeb8357-01e0-4414-96ff-ccf181147d54",
   "metadata": {},
   "outputs": [
    {
     "name": "stdin",
     "output_type": "stream",
     "text": [
      "Enter Hours:  35.1\n",
      "Enter Rate:  2.75\n"
     ]
    },
    {
     "name": "stdout",
     "output_type": "stream",
     "text": [
      "Pay: 96.53\n"
     ]
    }
   ],
   "source": [
    "# Uitwerking met afronding m.b.v. f-strings\n",
    "hours = float(input('Enter Hours: '))\n",
    "rate = float(input('Enter Rate: '))\n",
    "pay = hours * rate\n",
    "print(f'Pay: {pay:.2f}')"
   ]
  },
  {
   "cell_type": "markdown",
   "id": "004d8f0d-48c1-422e-b42f-eb6c02d8ed42",
   "metadata": {},
   "source": [
    "## Exercise 4\n",
    "Assume that we execute the following assignment statement:\n",
    "```\n",
    "width = 17\n",
    "height = 12.0\n",
    "```\n",
    "For each of the following expressions, write the value of the expression and the type (of the value of the expressions).\n",
    "\n",
    "1. `width // 2`\n",
    "2. `width / 2.0`\n",
    "3. `height / 3`\n",
    "4. `1 + 2 * 5`\n",
    "\n",
    "Use the Python interpreter to check your answers."
   ]
  },
  {
   "cell_type": "markdown",
   "id": "775ffd1f-1261-42c0-95f7-ab0f33daaae2",
   "metadata": {},
   "source": [
    "### Antwoord"
   ]
  },
  {
   "cell_type": "code",
   "execution_count": 12,
   "id": "b35b51a1-5c3a-432e-bce5-30b75c493270",
   "metadata": {},
   "outputs": [],
   "source": [
    "width = 17\n",
    "height = 12.0"
   ]
  },
  {
   "cell_type": "code",
   "execution_count": 17,
   "id": "1b7b1ce9-5ec2-484a-9a6a-1007699a0642",
   "metadata": {},
   "outputs": [
    {
     "data": {
      "text/plain": [
       "8"
      ]
     },
     "execution_count": 17,
     "metadata": {},
     "output_type": "execute_result"
    }
   ],
   "source": [
    "# Integer deling afgerond naar beneden\n",
    "width // 2"
   ]
  },
  {
   "cell_type": "code",
   "execution_count": 18,
   "id": "e973e9b8-19d5-4b08-a387-1f6ea19e541d",
   "metadata": {},
   "outputs": [
    {
     "data": {
      "text/plain": [
       "8.5"
      ]
     },
     "execution_count": 18,
     "metadata": {},
     "output_type": "execute_result"
    }
   ],
   "source": [
    "# Normale deling\n",
    "width / 2.0"
   ]
  },
  {
   "cell_type": "code",
   "execution_count": 19,
   "id": "ee32552a-d2f4-4c2e-9f16-bff7a4ed382c",
   "metadata": {},
   "outputs": [
    {
     "data": {
      "text/plain": [
       "4.0"
      ]
     },
     "execution_count": 19,
     "metadata": {},
     "output_type": "execute_result"
    }
   ],
   "source": [
    "# Resultaat is een `float` omdat minstens één van de getallen een `float` is.\n",
    "height / 3"
   ]
  },
  {
   "cell_type": "code",
   "execution_count": 20,
   "id": "27a6211b-3f5b-4cef-a77f-e1f3e75d60d6",
   "metadata": {},
   "outputs": [
    {
     "data": {
      "text/plain": [
       "11"
      ]
     },
     "execution_count": 20,
     "metadata": {},
     "output_type": "execute_result"
    }
   ],
   "source": [
    "# Er wordt rekening gehouden met Meneer Van Dale Wacht Op Antwoord.\n",
    "1 + 2 * 5"
   ]
  },
  {
   "cell_type": "markdown",
   "id": "7ec78c98-94f6-4103-91b3-e0650a343971",
   "metadata": {},
   "source": [
    "## Exercise 5\n",
    "Write a program which prompts the user for a Celsius temperature, convert the temperature to Fahrenheit, and print out the converted temperature."
   ]
  },
  {
   "cell_type": "markdown",
   "id": "e7f616d2-62f0-46cf-adff-c586674bc7f2",
   "metadata": {},
   "source": [
    "### Antwoord"
   ]
  },
  {
   "cell_type": "markdown",
   "id": "e467c338-bc00-4724-ae63-40eef0c2e861",
   "metadata": {},
   "source": [
    "De omrekening van Celsius to Fahrenheit kun je vinden op https://nl.wikipedia.org/wiki/Temperatuurschaal#Conversietabel."
   ]
  },
  {
   "cell_type": "code",
   "execution_count": 22,
   "id": "c9093446-ecfe-455f-a4bb-e409be83309e",
   "metadata": {},
   "outputs": [
    {
     "name": "stdin",
     "output_type": "stream",
     "text": [
      "Enter temperature in Celsius:  25\n"
     ]
    },
    {
     "name": "stdout",
     "output_type": "stream",
     "text": [
      "Temperature in Fahrenheit: 77.0\n"
     ]
    }
   ],
   "source": [
    "celsius = float(input('Enter temperature in Celsius: '))\n",
    "fahrenheit = celsius * 9/5 + 32\n",
    "print(f'Temperature in Fahrenheit: {fahrenheit}')"
   ]
  }
 ],
 "metadata": {
  "kernelspec": {
   "display_name": "Python 3 (ipykernel)",
   "language": "python",
   "name": "python3"
  },
  "language_info": {
   "codemirror_mode": {
    "name": "ipython",
    "version": 3
   },
   "file_extension": ".py",
   "mimetype": "text/x-python",
   "name": "python",
   "nbconvert_exporter": "python",
   "pygments_lexer": "ipython3",
   "version": "3.10.6"
  }
 },
 "nbformat": 4,
 "nbformat_minor": 5
}
